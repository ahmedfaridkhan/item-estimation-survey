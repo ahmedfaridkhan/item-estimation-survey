{
  "nbformat": 4,
  "nbformat_minor": 0,
  "metadata": {
    "colab": {
      "provenance": [],
      "collapsed_sections": [
        "q9ISjWpj-G03"
      ]
    },
    "kernelspec": {
      "name": "python3",
      "display_name": "Python 3"
    },
    "language_info": {
      "name": "python"
    }
  },
  "cells": [
    {
      "cell_type": "markdown",
      "source": [
        "## Load Data\n",
        "\n",
        "* n_initial: 232\n",
        "* n_completed_survey: 219\n",
        "* n_completed_and_no_duplicates:\n",
        "* n_completed_and_no_duplicatesa_and_passed_check:"
      ],
      "metadata": {
        "id": "b-taqxxK-b6U"
      }
    },
    {
      "cell_type": "code",
      "execution_count": 1,
      "metadata": {
        "id": "SoalqqvPX51W",
        "colab": {
          "base_uri": "https://localhost:8080/",
          "height": 210
        },
        "outputId": "41150e74-f9c3-424d-82c5-7359b7bebac7"
      },
      "outputs": [
        {
          "output_type": "execute_result",
          "data": {
            "text/plain": [
              "             StartDate              EndDate      Status       IPAddress  \\\n",
              "0  2024-02-25 16:51:25  2024-02-25 16:51:49  IP Address  128.197.29.250   \n",
              "1  2024-02-25 16:51:37  2024-02-25 16:51:51  IP Address    104.28.39.33   \n",
              "\n",
              "   Progress  Duration (in seconds)  Finished         RecordedDate  \\\n",
              "0        25                     23     False  2024-02-27 13:17:06   \n",
              "1        40                     14     False  2024-02-27 13:17:06   \n",
              "\n",
              "          ResponseId  RecipientLastName  ...  treatment 2      control    Q1  \\\n",
              "0  R_1p77grDRCEMPuUh                NaN  ...         24.0          NaN   NaN   \n",
              "1  R_10TP6Y7vnC7qWyZ                NaN  ...          NaN  Lars Halden  14.0   \n",
              "\n",
              "   Q2  Q3  Q4  Q5   Q6  Gender Age  \n",
              "0 NaN NaN NaN NaN  NaN     NaN NaN  \n",
              "1 NaN NaN NaN NaN  NaN     NaN NaN  \n",
              "\n",
              "[2 rows x 28 columns]"
            ],
            "text/html": [
              "\n",
              "  <div id=\"df-29168199-877f-4188-a614-dac27c4ac986\" class=\"colab-df-container\">\n",
              "    <div>\n",
              "<style scoped>\n",
              "    .dataframe tbody tr th:only-of-type {\n",
              "        vertical-align: middle;\n",
              "    }\n",
              "\n",
              "    .dataframe tbody tr th {\n",
              "        vertical-align: top;\n",
              "    }\n",
              "\n",
              "    .dataframe thead th {\n",
              "        text-align: right;\n",
              "    }\n",
              "</style>\n",
              "<table border=\"1\" class=\"dataframe\">\n",
              "  <thead>\n",
              "    <tr style=\"text-align: right;\">\n",
              "      <th></th>\n",
              "      <th>StartDate</th>\n",
              "      <th>EndDate</th>\n",
              "      <th>Status</th>\n",
              "      <th>IPAddress</th>\n",
              "      <th>Progress</th>\n",
              "      <th>Duration (in seconds)</th>\n",
              "      <th>Finished</th>\n",
              "      <th>RecordedDate</th>\n",
              "      <th>ResponseId</th>\n",
              "      <th>RecipientLastName</th>\n",
              "      <th>...</th>\n",
              "      <th>treatment 2</th>\n",
              "      <th>control</th>\n",
              "      <th>Q1</th>\n",
              "      <th>Q2</th>\n",
              "      <th>Q3</th>\n",
              "      <th>Q4</th>\n",
              "      <th>Q5</th>\n",
              "      <th>Q6</th>\n",
              "      <th>Gender</th>\n",
              "      <th>Age</th>\n",
              "    </tr>\n",
              "  </thead>\n",
              "  <tbody>\n",
              "    <tr>\n",
              "      <th>0</th>\n",
              "      <td>2024-02-25 16:51:25</td>\n",
              "      <td>2024-02-25 16:51:49</td>\n",
              "      <td>IP Address</td>\n",
              "      <td>128.197.29.250</td>\n",
              "      <td>25</td>\n",
              "      <td>23</td>\n",
              "      <td>False</td>\n",
              "      <td>2024-02-27 13:17:06</td>\n",
              "      <td>R_1p77grDRCEMPuUh</td>\n",
              "      <td>NaN</td>\n",
              "      <td>...</td>\n",
              "      <td>24.0</td>\n",
              "      <td>NaN</td>\n",
              "      <td>NaN</td>\n",
              "      <td>NaN</td>\n",
              "      <td>NaN</td>\n",
              "      <td>NaN</td>\n",
              "      <td>NaN</td>\n",
              "      <td>NaN</td>\n",
              "      <td>NaN</td>\n",
              "      <td>NaN</td>\n",
              "    </tr>\n",
              "    <tr>\n",
              "      <th>1</th>\n",
              "      <td>2024-02-25 16:51:37</td>\n",
              "      <td>2024-02-25 16:51:51</td>\n",
              "      <td>IP Address</td>\n",
              "      <td>104.28.39.33</td>\n",
              "      <td>40</td>\n",
              "      <td>14</td>\n",
              "      <td>False</td>\n",
              "      <td>2024-02-27 13:17:06</td>\n",
              "      <td>R_10TP6Y7vnC7qWyZ</td>\n",
              "      <td>NaN</td>\n",
              "      <td>...</td>\n",
              "      <td>NaN</td>\n",
              "      <td>Lars Halden</td>\n",
              "      <td>14.0</td>\n",
              "      <td>NaN</td>\n",
              "      <td>NaN</td>\n",
              "      <td>NaN</td>\n",
              "      <td>NaN</td>\n",
              "      <td>NaN</td>\n",
              "      <td>NaN</td>\n",
              "      <td>NaN</td>\n",
              "    </tr>\n",
              "  </tbody>\n",
              "</table>\n",
              "<p>2 rows × 28 columns</p>\n",
              "</div>\n",
              "    <div class=\"colab-df-buttons\">\n",
              "\n",
              "  <div class=\"colab-df-container\">\n",
              "    <button class=\"colab-df-convert\" onclick=\"convertToInteractive('df-29168199-877f-4188-a614-dac27c4ac986')\"\n",
              "            title=\"Convert this dataframe to an interactive table.\"\n",
              "            style=\"display:none;\">\n",
              "\n",
              "  <svg xmlns=\"http://www.w3.org/2000/svg\" height=\"24px\" viewBox=\"0 -960 960 960\">\n",
              "    <path d=\"M120-120v-720h720v720H120Zm60-500h600v-160H180v160Zm220 220h160v-160H400v160Zm0 220h160v-160H400v160ZM180-400h160v-160H180v160Zm440 0h160v-160H620v160ZM180-180h160v-160H180v160Zm440 0h160v-160H620v160Z\"/>\n",
              "  </svg>\n",
              "    </button>\n",
              "\n",
              "  <style>\n",
              "    .colab-df-container {\n",
              "      display:flex;\n",
              "      gap: 12px;\n",
              "    }\n",
              "\n",
              "    .colab-df-convert {\n",
              "      background-color: #E8F0FE;\n",
              "      border: none;\n",
              "      border-radius: 50%;\n",
              "      cursor: pointer;\n",
              "      display: none;\n",
              "      fill: #1967D2;\n",
              "      height: 32px;\n",
              "      padding: 0 0 0 0;\n",
              "      width: 32px;\n",
              "    }\n",
              "\n",
              "    .colab-df-convert:hover {\n",
              "      background-color: #E2EBFA;\n",
              "      box-shadow: 0px 1px 2px rgba(60, 64, 67, 0.3), 0px 1px 3px 1px rgba(60, 64, 67, 0.15);\n",
              "      fill: #174EA6;\n",
              "    }\n",
              "\n",
              "    .colab-df-buttons div {\n",
              "      margin-bottom: 4px;\n",
              "    }\n",
              "\n",
              "    [theme=dark] .colab-df-convert {\n",
              "      background-color: #3B4455;\n",
              "      fill: #D2E3FC;\n",
              "    }\n",
              "\n",
              "    [theme=dark] .colab-df-convert:hover {\n",
              "      background-color: #434B5C;\n",
              "      box-shadow: 0px 1px 3px 1px rgba(0, 0, 0, 0.15);\n",
              "      filter: drop-shadow(0px 1px 2px rgba(0, 0, 0, 0.3));\n",
              "      fill: #FFFFFF;\n",
              "    }\n",
              "  </style>\n",
              "\n",
              "    <script>\n",
              "      const buttonEl =\n",
              "        document.querySelector('#df-29168199-877f-4188-a614-dac27c4ac986 button.colab-df-convert');\n",
              "      buttonEl.style.display =\n",
              "        google.colab.kernel.accessAllowed ? 'block' : 'none';\n",
              "\n",
              "      async function convertToInteractive(key) {\n",
              "        const element = document.querySelector('#df-29168199-877f-4188-a614-dac27c4ac986');\n",
              "        const dataTable =\n",
              "          await google.colab.kernel.invokeFunction('convertToInteractive',\n",
              "                                                    [key], {});\n",
              "        if (!dataTable) return;\n",
              "\n",
              "        const docLinkHtml = 'Like what you see? Visit the ' +\n",
              "          '<a target=\"_blank\" href=https://colab.research.google.com/notebooks/data_table.ipynb>data table notebook</a>'\n",
              "          + ' to learn more about interactive tables.';\n",
              "        element.innerHTML = '';\n",
              "        dataTable['output_type'] = 'display_data';\n",
              "        await google.colab.output.renderOutput(dataTable, element);\n",
              "        const docLink = document.createElement('div');\n",
              "        docLink.innerHTML = docLinkHtml;\n",
              "        element.appendChild(docLink);\n",
              "      }\n",
              "    </script>\n",
              "  </div>\n",
              "\n",
              "\n",
              "<div id=\"df-cb2c0293-d8db-4370-9900-74b2230ee46c\">\n",
              "  <button class=\"colab-df-quickchart\" onclick=\"quickchart('df-cb2c0293-d8db-4370-9900-74b2230ee46c')\"\n",
              "            title=\"Suggest charts\"\n",
              "            style=\"display:none;\">\n",
              "\n",
              "<svg xmlns=\"http://www.w3.org/2000/svg\" height=\"24px\"viewBox=\"0 0 24 24\"\n",
              "     width=\"24px\">\n",
              "    <g>\n",
              "        <path d=\"M19 3H5c-1.1 0-2 .9-2 2v14c0 1.1.9 2 2 2h14c1.1 0 2-.9 2-2V5c0-1.1-.9-2-2-2zM9 17H7v-7h2v7zm4 0h-2V7h2v10zm4 0h-2v-4h2v4z\"/>\n",
              "    </g>\n",
              "</svg>\n",
              "  </button>\n",
              "\n",
              "<style>\n",
              "  .colab-df-quickchart {\n",
              "      --bg-color: #E8F0FE;\n",
              "      --fill-color: #1967D2;\n",
              "      --hover-bg-color: #E2EBFA;\n",
              "      --hover-fill-color: #174EA6;\n",
              "      --disabled-fill-color: #AAA;\n",
              "      --disabled-bg-color: #DDD;\n",
              "  }\n",
              "\n",
              "  [theme=dark] .colab-df-quickchart {\n",
              "      --bg-color: #3B4455;\n",
              "      --fill-color: #D2E3FC;\n",
              "      --hover-bg-color: #434B5C;\n",
              "      --hover-fill-color: #FFFFFF;\n",
              "      --disabled-bg-color: #3B4455;\n",
              "      --disabled-fill-color: #666;\n",
              "  }\n",
              "\n",
              "  .colab-df-quickchart {\n",
              "    background-color: var(--bg-color);\n",
              "    border: none;\n",
              "    border-radius: 50%;\n",
              "    cursor: pointer;\n",
              "    display: none;\n",
              "    fill: var(--fill-color);\n",
              "    height: 32px;\n",
              "    padding: 0;\n",
              "    width: 32px;\n",
              "  }\n",
              "\n",
              "  .colab-df-quickchart:hover {\n",
              "    background-color: var(--hover-bg-color);\n",
              "    box-shadow: 0 1px 2px rgba(60, 64, 67, 0.3), 0 1px 3px 1px rgba(60, 64, 67, 0.15);\n",
              "    fill: var(--button-hover-fill-color);\n",
              "  }\n",
              "\n",
              "  .colab-df-quickchart-complete:disabled,\n",
              "  .colab-df-quickchart-complete:disabled:hover {\n",
              "    background-color: var(--disabled-bg-color);\n",
              "    fill: var(--disabled-fill-color);\n",
              "    box-shadow: none;\n",
              "  }\n",
              "\n",
              "  .colab-df-spinner {\n",
              "    border: 2px solid var(--fill-color);\n",
              "    border-color: transparent;\n",
              "    border-bottom-color: var(--fill-color);\n",
              "    animation:\n",
              "      spin 1s steps(1) infinite;\n",
              "  }\n",
              "\n",
              "  @keyframes spin {\n",
              "    0% {\n",
              "      border-color: transparent;\n",
              "      border-bottom-color: var(--fill-color);\n",
              "      border-left-color: var(--fill-color);\n",
              "    }\n",
              "    20% {\n",
              "      border-color: transparent;\n",
              "      border-left-color: var(--fill-color);\n",
              "      border-top-color: var(--fill-color);\n",
              "    }\n",
              "    30% {\n",
              "      border-color: transparent;\n",
              "      border-left-color: var(--fill-color);\n",
              "      border-top-color: var(--fill-color);\n",
              "      border-right-color: var(--fill-color);\n",
              "    }\n",
              "    40% {\n",
              "      border-color: transparent;\n",
              "      border-right-color: var(--fill-color);\n",
              "      border-top-color: var(--fill-color);\n",
              "    }\n",
              "    60% {\n",
              "      border-color: transparent;\n",
              "      border-right-color: var(--fill-color);\n",
              "    }\n",
              "    80% {\n",
              "      border-color: transparent;\n",
              "      border-right-color: var(--fill-color);\n",
              "      border-bottom-color: var(--fill-color);\n",
              "    }\n",
              "    90% {\n",
              "      border-color: transparent;\n",
              "      border-bottom-color: var(--fill-color);\n",
              "    }\n",
              "  }\n",
              "</style>\n",
              "\n",
              "  <script>\n",
              "    async function quickchart(key) {\n",
              "      const quickchartButtonEl =\n",
              "        document.querySelector('#' + key + ' button');\n",
              "      quickchartButtonEl.disabled = true;  // To prevent multiple clicks.\n",
              "      quickchartButtonEl.classList.add('colab-df-spinner');\n",
              "      try {\n",
              "        const charts = await google.colab.kernel.invokeFunction(\n",
              "            'suggestCharts', [key], {});\n",
              "      } catch (error) {\n",
              "        console.error('Error during call to suggestCharts:', error);\n",
              "      }\n",
              "      quickchartButtonEl.classList.remove('colab-df-spinner');\n",
              "      quickchartButtonEl.classList.add('colab-df-quickchart-complete');\n",
              "    }\n",
              "    (() => {\n",
              "      let quickchartButtonEl =\n",
              "        document.querySelector('#df-cb2c0293-d8db-4370-9900-74b2230ee46c button');\n",
              "      quickchartButtonEl.style.display =\n",
              "        google.colab.kernel.accessAllowed ? 'block' : 'none';\n",
              "    })();\n",
              "  </script>\n",
              "</div>\n",
              "\n",
              "    </div>\n",
              "  </div>\n"
            ],
            "application/vnd.google.colaboratory.intrinsic+json": {
              "type": "dataframe",
              "variable_name": "survey_df"
            }
          },
          "metadata": {},
          "execution_count": 1
        }
      ],
      "source": [
        "import pandas as pd\n",
        "\n",
        "survey_df = pd.read_csv('https://raw.githubusercontent.com/ahmedfaridkhan/item-estimation-survey/main/BA-830-Survey_results.csv', skiprows=[1, 2], header=0)\n",
        "\n",
        "#Check dataframe\n",
        "survey_df.head(2)"
      ]
    },
    {
      "cell_type": "markdown",
      "source": [
        "## Data Cleaning and Data Preparation"
      ],
      "metadata": {
        "id": "c-WNnKFM-lfX"
      }
    },
    {
      "cell_type": "code",
      "source": [
        "#Check columns\n",
        "survey_df.columns"
      ],
      "metadata": {
        "colab": {
          "base_uri": "https://localhost:8080/"
        },
        "id": "JZ5iKlbtZKg4",
        "outputId": "1f4ccf4f-e647-4c4f-b6a8-6761c2252610"
      },
      "execution_count": 2,
      "outputs": [
        {
          "output_type": "execute_result",
          "data": {
            "text/plain": [
              "Index(['StartDate', 'EndDate', 'Status', 'IPAddress', 'Progress',\n",
              "       'Duration (in seconds)', 'Finished', 'RecordedDate', 'ResponseId',\n",
              "       'RecipientLastName', 'RecipientFirstName', 'RecipientEmail',\n",
              "       'ExternalReference', 'LocationLatitude', 'LocationLongitude',\n",
              "       'DistributionChannel', 'UserLanguage', 'treatment 1', 'treatment 2',\n",
              "       'control', 'Q1', 'Q2', 'Q3', 'Q4', 'Q5', 'Q6', 'Gender', 'Age'],\n",
              "      dtype='object')"
            ]
          },
          "metadata": {},
          "execution_count": 2
        }
      ]
    },
    {
      "cell_type": "code",
      "source": [
        "survey_df = survey_df.drop(['StartDate', 'EndDate', 'Status', 'Duration (in seconds)', 'RecordedDate', 'ResponseId', 'RecipientLastName', 'RecipientFirstName',\\\n",
        "       'RecipientEmail', 'ExternalReference', 'LocationLatitude', 'LocationLongitude', 'DistributionChannel', 'UserLanguage'], axis = 1)"
      ],
      "metadata": {
        "id": "L0x5OnAjZOiJ"
      },
      "execution_count": 3,
      "outputs": []
    },
    {
      "cell_type": "code",
      "source": [
        "survey_df.Finished.value_counts()"
      ],
      "metadata": {
        "colab": {
          "base_uri": "https://localhost:8080/"
        },
        "id": "mowiCYBcaTa7",
        "outputId": "134b305f-70fb-4866-abe0-d6d5bdb9d61e"
      },
      "execution_count": 4,
      "outputs": [
        {
          "output_type": "execute_result",
          "data": {
            "text/plain": [
              "True     219\n",
              "False     13\n",
              "Name: Finished, dtype: int64"
            ]
          },
          "metadata": {},
          "execution_count": 4
        }
      ]
    },
    {
      "cell_type": "code",
      "source": [
        "#Keep only people that finished the survey (out of 232)\n",
        "survey_df = survey_df[survey_df['Finished'] == True]\n",
        "\n",
        "survey_df = survey_df.reset_index(drop=True)"
      ],
      "metadata": {
        "id": "z5MVl-VobGft"
      },
      "execution_count": 5,
      "outputs": []
    },
    {
      "cell_type": "code",
      "source": [
        "#Create a new column to check if the person passed the attention question\n",
        "\n",
        "#Define the function to create 'passed_check' column\n",
        "def check_values(row):\n",
        "    if pd.notna(row['treatment 1']):\n",
        "        return row['treatment 1'] == 9\n",
        "    elif pd.notna(row['treatment 2']):\n",
        "        return row['treatment 2'] == 102\n",
        "    elif pd.notna(row['control']):\n",
        "        return row['control'] == 'Lars Halden'\n",
        "    else:\n",
        "        return False\n",
        "\n",
        "#Apply function to the survey data\n",
        "survey_df['passed_check'] = survey_df.apply(check_values, axis=1)\n",
        "\n",
        "survey_df[['passed_check', 'control','treatment 1', 'treatment 2']].head(5)"
      ],
      "metadata": {
        "colab": {
          "base_uri": "https://localhost:8080/",
          "height": 206
        },
        "id": "RUIBTKdwYXPx",
        "outputId": "4bd7ee0a-9858-4e6c-b0ee-28bb2a0b7eb8"
      },
      "execution_count": 6,
      "outputs": [
        {
          "output_type": "execute_result",
          "data": {
            "text/plain": [
              "   passed_check          control  treatment 1  treatment 2\n",
              "0          True              NaN          9.0          NaN\n",
              "1          True              NaN          NaN        102.0\n",
              "2          True              NaN          NaN        102.0\n",
              "3         False  Ingrid Johansen          NaN          NaN\n",
              "4          True      Lars Halden          NaN          NaN"
            ],
            "text/html": [
              "\n",
              "  <div id=\"df-0c3922bb-a32e-4d83-9d6b-e71611fe2492\" class=\"colab-df-container\">\n",
              "    <div>\n",
              "<style scoped>\n",
              "    .dataframe tbody tr th:only-of-type {\n",
              "        vertical-align: middle;\n",
              "    }\n",
              "\n",
              "    .dataframe tbody tr th {\n",
              "        vertical-align: top;\n",
              "    }\n",
              "\n",
              "    .dataframe thead th {\n",
              "        text-align: right;\n",
              "    }\n",
              "</style>\n",
              "<table border=\"1\" class=\"dataframe\">\n",
              "  <thead>\n",
              "    <tr style=\"text-align: right;\">\n",
              "      <th></th>\n",
              "      <th>passed_check</th>\n",
              "      <th>control</th>\n",
              "      <th>treatment 1</th>\n",
              "      <th>treatment 2</th>\n",
              "    </tr>\n",
              "  </thead>\n",
              "  <tbody>\n",
              "    <tr>\n",
              "      <th>0</th>\n",
              "      <td>True</td>\n",
              "      <td>NaN</td>\n",
              "      <td>9.0</td>\n",
              "      <td>NaN</td>\n",
              "    </tr>\n",
              "    <tr>\n",
              "      <th>1</th>\n",
              "      <td>True</td>\n",
              "      <td>NaN</td>\n",
              "      <td>NaN</td>\n",
              "      <td>102.0</td>\n",
              "    </tr>\n",
              "    <tr>\n",
              "      <th>2</th>\n",
              "      <td>True</td>\n",
              "      <td>NaN</td>\n",
              "      <td>NaN</td>\n",
              "      <td>102.0</td>\n",
              "    </tr>\n",
              "    <tr>\n",
              "      <th>3</th>\n",
              "      <td>False</td>\n",
              "      <td>Ingrid Johansen</td>\n",
              "      <td>NaN</td>\n",
              "      <td>NaN</td>\n",
              "    </tr>\n",
              "    <tr>\n",
              "      <th>4</th>\n",
              "      <td>True</td>\n",
              "      <td>Lars Halden</td>\n",
              "      <td>NaN</td>\n",
              "      <td>NaN</td>\n",
              "    </tr>\n",
              "  </tbody>\n",
              "</table>\n",
              "</div>\n",
              "    <div class=\"colab-df-buttons\">\n",
              "\n",
              "  <div class=\"colab-df-container\">\n",
              "    <button class=\"colab-df-convert\" onclick=\"convertToInteractive('df-0c3922bb-a32e-4d83-9d6b-e71611fe2492')\"\n",
              "            title=\"Convert this dataframe to an interactive table.\"\n",
              "            style=\"display:none;\">\n",
              "\n",
              "  <svg xmlns=\"http://www.w3.org/2000/svg\" height=\"24px\" viewBox=\"0 -960 960 960\">\n",
              "    <path d=\"M120-120v-720h720v720H120Zm60-500h600v-160H180v160Zm220 220h160v-160H400v160Zm0 220h160v-160H400v160ZM180-400h160v-160H180v160Zm440 0h160v-160H620v160ZM180-180h160v-160H180v160Zm440 0h160v-160H620v160Z\"/>\n",
              "  </svg>\n",
              "    </button>\n",
              "\n",
              "  <style>\n",
              "    .colab-df-container {\n",
              "      display:flex;\n",
              "      gap: 12px;\n",
              "    }\n",
              "\n",
              "    .colab-df-convert {\n",
              "      background-color: #E8F0FE;\n",
              "      border: none;\n",
              "      border-radius: 50%;\n",
              "      cursor: pointer;\n",
              "      display: none;\n",
              "      fill: #1967D2;\n",
              "      height: 32px;\n",
              "      padding: 0 0 0 0;\n",
              "      width: 32px;\n",
              "    }\n",
              "\n",
              "    .colab-df-convert:hover {\n",
              "      background-color: #E2EBFA;\n",
              "      box-shadow: 0px 1px 2px rgba(60, 64, 67, 0.3), 0px 1px 3px 1px rgba(60, 64, 67, 0.15);\n",
              "      fill: #174EA6;\n",
              "    }\n",
              "\n",
              "    .colab-df-buttons div {\n",
              "      margin-bottom: 4px;\n",
              "    }\n",
              "\n",
              "    [theme=dark] .colab-df-convert {\n",
              "      background-color: #3B4455;\n",
              "      fill: #D2E3FC;\n",
              "    }\n",
              "\n",
              "    [theme=dark] .colab-df-convert:hover {\n",
              "      background-color: #434B5C;\n",
              "      box-shadow: 0px 1px 3px 1px rgba(0, 0, 0, 0.15);\n",
              "      filter: drop-shadow(0px 1px 2px rgba(0, 0, 0, 0.3));\n",
              "      fill: #FFFFFF;\n",
              "    }\n",
              "  </style>\n",
              "\n",
              "    <script>\n",
              "      const buttonEl =\n",
              "        document.querySelector('#df-0c3922bb-a32e-4d83-9d6b-e71611fe2492 button.colab-df-convert');\n",
              "      buttonEl.style.display =\n",
              "        google.colab.kernel.accessAllowed ? 'block' : 'none';\n",
              "\n",
              "      async function convertToInteractive(key) {\n",
              "        const element = document.querySelector('#df-0c3922bb-a32e-4d83-9d6b-e71611fe2492');\n",
              "        const dataTable =\n",
              "          await google.colab.kernel.invokeFunction('convertToInteractive',\n",
              "                                                    [key], {});\n",
              "        if (!dataTable) return;\n",
              "\n",
              "        const docLinkHtml = 'Like what you see? Visit the ' +\n",
              "          '<a target=\"_blank\" href=https://colab.research.google.com/notebooks/data_table.ipynb>data table notebook</a>'\n",
              "          + ' to learn more about interactive tables.';\n",
              "        element.innerHTML = '';\n",
              "        dataTable['output_type'] = 'display_data';\n",
              "        await google.colab.output.renderOutput(dataTable, element);\n",
              "        const docLink = document.createElement('div');\n",
              "        docLink.innerHTML = docLinkHtml;\n",
              "        element.appendChild(docLink);\n",
              "      }\n",
              "    </script>\n",
              "  </div>\n",
              "\n",
              "\n",
              "<div id=\"df-d734a607-9837-4b98-963c-d7a0babca6db\">\n",
              "  <button class=\"colab-df-quickchart\" onclick=\"quickchart('df-d734a607-9837-4b98-963c-d7a0babca6db')\"\n",
              "            title=\"Suggest charts\"\n",
              "            style=\"display:none;\">\n",
              "\n",
              "<svg xmlns=\"http://www.w3.org/2000/svg\" height=\"24px\"viewBox=\"0 0 24 24\"\n",
              "     width=\"24px\">\n",
              "    <g>\n",
              "        <path d=\"M19 3H5c-1.1 0-2 .9-2 2v14c0 1.1.9 2 2 2h14c1.1 0 2-.9 2-2V5c0-1.1-.9-2-2-2zM9 17H7v-7h2v7zm4 0h-2V7h2v10zm4 0h-2v-4h2v4z\"/>\n",
              "    </g>\n",
              "</svg>\n",
              "  </button>\n",
              "\n",
              "<style>\n",
              "  .colab-df-quickchart {\n",
              "      --bg-color: #E8F0FE;\n",
              "      --fill-color: #1967D2;\n",
              "      --hover-bg-color: #E2EBFA;\n",
              "      --hover-fill-color: #174EA6;\n",
              "      --disabled-fill-color: #AAA;\n",
              "      --disabled-bg-color: #DDD;\n",
              "  }\n",
              "\n",
              "  [theme=dark] .colab-df-quickchart {\n",
              "      --bg-color: #3B4455;\n",
              "      --fill-color: #D2E3FC;\n",
              "      --hover-bg-color: #434B5C;\n",
              "      --hover-fill-color: #FFFFFF;\n",
              "      --disabled-bg-color: #3B4455;\n",
              "      --disabled-fill-color: #666;\n",
              "  }\n",
              "\n",
              "  .colab-df-quickchart {\n",
              "    background-color: var(--bg-color);\n",
              "    border: none;\n",
              "    border-radius: 50%;\n",
              "    cursor: pointer;\n",
              "    display: none;\n",
              "    fill: var(--fill-color);\n",
              "    height: 32px;\n",
              "    padding: 0;\n",
              "    width: 32px;\n",
              "  }\n",
              "\n",
              "  .colab-df-quickchart:hover {\n",
              "    background-color: var(--hover-bg-color);\n",
              "    box-shadow: 0 1px 2px rgba(60, 64, 67, 0.3), 0 1px 3px 1px rgba(60, 64, 67, 0.15);\n",
              "    fill: var(--button-hover-fill-color);\n",
              "  }\n",
              "\n",
              "  .colab-df-quickchart-complete:disabled,\n",
              "  .colab-df-quickchart-complete:disabled:hover {\n",
              "    background-color: var(--disabled-bg-color);\n",
              "    fill: var(--disabled-fill-color);\n",
              "    box-shadow: none;\n",
              "  }\n",
              "\n",
              "  .colab-df-spinner {\n",
              "    border: 2px solid var(--fill-color);\n",
              "    border-color: transparent;\n",
              "    border-bottom-color: var(--fill-color);\n",
              "    animation:\n",
              "      spin 1s steps(1) infinite;\n",
              "  }\n",
              "\n",
              "  @keyframes spin {\n",
              "    0% {\n",
              "      border-color: transparent;\n",
              "      border-bottom-color: var(--fill-color);\n",
              "      border-left-color: var(--fill-color);\n",
              "    }\n",
              "    20% {\n",
              "      border-color: transparent;\n",
              "      border-left-color: var(--fill-color);\n",
              "      border-top-color: var(--fill-color);\n",
              "    }\n",
              "    30% {\n",
              "      border-color: transparent;\n",
              "      border-left-color: var(--fill-color);\n",
              "      border-top-color: var(--fill-color);\n",
              "      border-right-color: var(--fill-color);\n",
              "    }\n",
              "    40% {\n",
              "      border-color: transparent;\n",
              "      border-right-color: var(--fill-color);\n",
              "      border-top-color: var(--fill-color);\n",
              "    }\n",
              "    60% {\n",
              "      border-color: transparent;\n",
              "      border-right-color: var(--fill-color);\n",
              "    }\n",
              "    80% {\n",
              "      border-color: transparent;\n",
              "      border-right-color: var(--fill-color);\n",
              "      border-bottom-color: var(--fill-color);\n",
              "    }\n",
              "    90% {\n",
              "      border-color: transparent;\n",
              "      border-bottom-color: var(--fill-color);\n",
              "    }\n",
              "  }\n",
              "</style>\n",
              "\n",
              "  <script>\n",
              "    async function quickchart(key) {\n",
              "      const quickchartButtonEl =\n",
              "        document.querySelector('#' + key + ' button');\n",
              "      quickchartButtonEl.disabled = true;  // To prevent multiple clicks.\n",
              "      quickchartButtonEl.classList.add('colab-df-spinner');\n",
              "      try {\n",
              "        const charts = await google.colab.kernel.invokeFunction(\n",
              "            'suggestCharts', [key], {});\n",
              "      } catch (error) {\n",
              "        console.error('Error during call to suggestCharts:', error);\n",
              "      }\n",
              "      quickchartButtonEl.classList.remove('colab-df-spinner');\n",
              "      quickchartButtonEl.classList.add('colab-df-quickchart-complete');\n",
              "    }\n",
              "    (() => {\n",
              "      let quickchartButtonEl =\n",
              "        document.querySelector('#df-d734a607-9837-4b98-963c-d7a0babca6db button');\n",
              "      quickchartButtonEl.style.display =\n",
              "        google.colab.kernel.accessAllowed ? 'block' : 'none';\n",
              "    })();\n",
              "  </script>\n",
              "</div>\n",
              "\n",
              "    </div>\n",
              "  </div>\n"
            ],
            "application/vnd.google.colaboratory.intrinsic+json": {
              "type": "dataframe",
              "summary": "{\n  \"name\": \"survey_df[['passed_check', 'control','treatment 1', 'treatment 2']]\",\n  \"rows\": 5,\n  \"fields\": [\n    {\n      \"column\": \"passed_check\",\n      \"properties\": {\n        \"dtype\": \"boolean\",\n        \"num_unique_values\": 2,\n        \"samples\": [\n          false,\n          true\n        ],\n        \"semantic_type\": \"\",\n        \"description\": \"\"\n      }\n    },\n    {\n      \"column\": \"control\",\n      \"properties\": {\n        \"dtype\": \"category\",\n        \"num_unique_values\": 2,\n        \"samples\": [\n          \"Lars Halden\",\n          \"Ingrid Johansen\"\n        ],\n        \"semantic_type\": \"\",\n        \"description\": \"\"\n      }\n    },\n    {\n      \"column\": \"treatment 1\",\n      \"properties\": {\n        \"dtype\": \"number\",\n        \"std\": null,\n        \"min\": 9.0,\n        \"max\": 9.0,\n        \"num_unique_values\": 1,\n        \"samples\": [\n          9.0\n        ],\n        \"semantic_type\": \"\",\n        \"description\": \"\"\n      }\n    },\n    {\n      \"column\": \"treatment 2\",\n      \"properties\": {\n        \"dtype\": \"number\",\n        \"std\": 0.0,\n        \"min\": 102.0,\n        \"max\": 102.0,\n        \"num_unique_values\": 1,\n        \"samples\": [\n          102.0\n        ],\n        \"semantic_type\": \"\",\n        \"description\": \"\"\n      }\n    }\n  ]\n}"
            }
          },
          "metadata": {},
          "execution_count": 6
        }
      ]
    },
    {
      "cell_type": "code",
      "source": [
        "#Assign people to treatment or control\n",
        "import numpy as np\n",
        "\n",
        "survey_df['group'] = 'control'  # Set a default value for the 'group' column\n",
        "\n",
        "for value in range(len(survey_df)):\n",
        "    if pd.isna(survey_df['treatment 1'].iloc[value]) and pd.isna(survey_df['treatment 2'].iloc[value]):\n",
        "        survey_df['group'].iloc[value] = 'control'\n",
        "    elif pd.isna(survey_df['control'].iloc[value]) and pd.isna(survey_df['treatment 2'].iloc[value]):\n",
        "        survey_df['group'].iloc[value] = 'treatment 1'\n",
        "    else:\n",
        "        survey_df['group'].iloc[value] = 'treatment 2'"
      ],
      "metadata": {
        "colab": {
          "base_uri": "https://localhost:8080/"
        },
        "id": "SAFox2cQdcDz",
        "outputId": "e2705c72-346b-428e-8b03-8ce434a5f303"
      },
      "execution_count": 7,
      "outputs": [
        {
          "output_type": "stream",
          "name": "stderr",
          "text": [
            "<ipython-input-7-8607cf2b5fea>:10: SettingWithCopyWarning: \n",
            "A value is trying to be set on a copy of a slice from a DataFrame\n",
            "\n",
            "See the caveats in the documentation: https://pandas.pydata.org/pandas-docs/stable/user_guide/indexing.html#returning-a-view-versus-a-copy\n",
            "  survey_df['group'].iloc[value] = 'treatment 1'\n",
            "<ipython-input-7-8607cf2b5fea>:12: SettingWithCopyWarning: \n",
            "A value is trying to be set on a copy of a slice from a DataFrame\n",
            "\n",
            "See the caveats in the documentation: https://pandas.pydata.org/pandas-docs/stable/user_guide/indexing.html#returning-a-view-versus-a-copy\n",
            "  survey_df['group'].iloc[value] = 'treatment 2'\n",
            "<ipython-input-7-8607cf2b5fea>:8: SettingWithCopyWarning: \n",
            "A value is trying to be set on a copy of a slice from a DataFrame\n",
            "\n",
            "See the caveats in the documentation: https://pandas.pydata.org/pandas-docs/stable/user_guide/indexing.html#returning-a-view-versus-a-copy\n",
            "  survey_df['group'].iloc[value] = 'control'\n"
          ]
        }
      ]
    },
    {
      "cell_type": "code",
      "source": [
        "survey_df = survey_df.drop(['Progress', 'Finished', 'treatment 1', 'treatment 2', 'control'], axis = 1)"
      ],
      "metadata": {
        "id": "fsOptKbPdxEE"
      },
      "execution_count": 8,
      "outputs": []
    },
    {
      "cell_type": "code",
      "source": [
        "survey_df"
      ],
      "metadata": {
        "colab": {
          "base_uri": "https://localhost:8080/",
          "height": 423
        },
        "id": "oW3k-y6sd5zD",
        "outputId": "61f2b765-db3e-462a-b769-479d03e0b226"
      },
      "execution_count": 9,
      "outputs": [
        {
          "output_type": "execute_result",
          "data": {
            "text/plain": [
              "           IPAddress    Q1     Q2     Q3     Q4      Q5    Q6  \\\n",
              "0       77.164.41.88  11.0  160.0  180.0   60.0   280.0   180   \n",
              "1    172.225.170.111  20.0  100.0   70.0   40.0   200.0   150   \n",
              "2     190.111.246.27  10.0  300.0  140.0   50.0   550.0   350   \n",
              "3     67.205.195.178  10.0  500.0  180.0   90.0   350.0  1200   \n",
              "4      172.58.134.27  10.0  100.0  120.0   40.0   800.0    90   \n",
              "..               ...   ...    ...    ...    ...     ...   ...   \n",
              "214   177.11.210.150   2.0  100.0  150.0  120.0   400.0   250   \n",
              "215      42.2.71.129  13.0  200.0  150.0  120.0   500.0   250   \n",
              "216  186.222.199.176  10.0   50.0   90.0   55.0   220.0    80   \n",
              "217  186.222.199.176  12.0  150.0  208.0   92.0  2400.0   100   \n",
              "218  186.222.199.176  12.0  328.0  350.0  130.0   450.0   120   \n",
              "\n",
              "                        Gender   Age  passed_check        group  \n",
              "0                       Female  22.0          True  treatment 1  \n",
              "1                         Male  30.0          True  treatment 2  \n",
              "2                       Female  26.0          True  treatment 2  \n",
              "3                         Male  53.0         False      control  \n",
              "4                       Female  23.0          True      control  \n",
              "..                         ...   ...           ...          ...  \n",
              "214                       Male  42.0          True      control  \n",
              "215  Non-binary / third gender  35.0          True      control  \n",
              "216                     Female  16.0          True  treatment 2  \n",
              "217                     Female  67.0          True  treatment 2  \n",
              "218                       Male  20.0          True  treatment 2  \n",
              "\n",
              "[219 rows x 11 columns]"
            ],
            "text/html": [
              "\n",
              "  <div id=\"df-fa2bc949-1a2f-4c87-8f20-75c688043b39\" class=\"colab-df-container\">\n",
              "    <div>\n",
              "<style scoped>\n",
              "    .dataframe tbody tr th:only-of-type {\n",
              "        vertical-align: middle;\n",
              "    }\n",
              "\n",
              "    .dataframe tbody tr th {\n",
              "        vertical-align: top;\n",
              "    }\n",
              "\n",
              "    .dataframe thead th {\n",
              "        text-align: right;\n",
              "    }\n",
              "</style>\n",
              "<table border=\"1\" class=\"dataframe\">\n",
              "  <thead>\n",
              "    <tr style=\"text-align: right;\">\n",
              "      <th></th>\n",
              "      <th>IPAddress</th>\n",
              "      <th>Q1</th>\n",
              "      <th>Q2</th>\n",
              "      <th>Q3</th>\n",
              "      <th>Q4</th>\n",
              "      <th>Q5</th>\n",
              "      <th>Q6</th>\n",
              "      <th>Gender</th>\n",
              "      <th>Age</th>\n",
              "      <th>passed_check</th>\n",
              "      <th>group</th>\n",
              "    </tr>\n",
              "  </thead>\n",
              "  <tbody>\n",
              "    <tr>\n",
              "      <th>0</th>\n",
              "      <td>77.164.41.88</td>\n",
              "      <td>11.0</td>\n",
              "      <td>160.0</td>\n",
              "      <td>180.0</td>\n",
              "      <td>60.0</td>\n",
              "      <td>280.0</td>\n",
              "      <td>180</td>\n",
              "      <td>Female</td>\n",
              "      <td>22.0</td>\n",
              "      <td>True</td>\n",
              "      <td>treatment 1</td>\n",
              "    </tr>\n",
              "    <tr>\n",
              "      <th>1</th>\n",
              "      <td>172.225.170.111</td>\n",
              "      <td>20.0</td>\n",
              "      <td>100.0</td>\n",
              "      <td>70.0</td>\n",
              "      <td>40.0</td>\n",
              "      <td>200.0</td>\n",
              "      <td>150</td>\n",
              "      <td>Male</td>\n",
              "      <td>30.0</td>\n",
              "      <td>True</td>\n",
              "      <td>treatment 2</td>\n",
              "    </tr>\n",
              "    <tr>\n",
              "      <th>2</th>\n",
              "      <td>190.111.246.27</td>\n",
              "      <td>10.0</td>\n",
              "      <td>300.0</td>\n",
              "      <td>140.0</td>\n",
              "      <td>50.0</td>\n",
              "      <td>550.0</td>\n",
              "      <td>350</td>\n",
              "      <td>Female</td>\n",
              "      <td>26.0</td>\n",
              "      <td>True</td>\n",
              "      <td>treatment 2</td>\n",
              "    </tr>\n",
              "    <tr>\n",
              "      <th>3</th>\n",
              "      <td>67.205.195.178</td>\n",
              "      <td>10.0</td>\n",
              "      <td>500.0</td>\n",
              "      <td>180.0</td>\n",
              "      <td>90.0</td>\n",
              "      <td>350.0</td>\n",
              "      <td>1200</td>\n",
              "      <td>Male</td>\n",
              "      <td>53.0</td>\n",
              "      <td>False</td>\n",
              "      <td>control</td>\n",
              "    </tr>\n",
              "    <tr>\n",
              "      <th>4</th>\n",
              "      <td>172.58.134.27</td>\n",
              "      <td>10.0</td>\n",
              "      <td>100.0</td>\n",
              "      <td>120.0</td>\n",
              "      <td>40.0</td>\n",
              "      <td>800.0</td>\n",
              "      <td>90</td>\n",
              "      <td>Female</td>\n",
              "      <td>23.0</td>\n",
              "      <td>True</td>\n",
              "      <td>control</td>\n",
              "    </tr>\n",
              "    <tr>\n",
              "      <th>...</th>\n",
              "      <td>...</td>\n",
              "      <td>...</td>\n",
              "      <td>...</td>\n",
              "      <td>...</td>\n",
              "      <td>...</td>\n",
              "      <td>...</td>\n",
              "      <td>...</td>\n",
              "      <td>...</td>\n",
              "      <td>...</td>\n",
              "      <td>...</td>\n",
              "      <td>...</td>\n",
              "    </tr>\n",
              "    <tr>\n",
              "      <th>214</th>\n",
              "      <td>177.11.210.150</td>\n",
              "      <td>2.0</td>\n",
              "      <td>100.0</td>\n",
              "      <td>150.0</td>\n",
              "      <td>120.0</td>\n",
              "      <td>400.0</td>\n",
              "      <td>250</td>\n",
              "      <td>Male</td>\n",
              "      <td>42.0</td>\n",
              "      <td>True</td>\n",
              "      <td>control</td>\n",
              "    </tr>\n",
              "    <tr>\n",
              "      <th>215</th>\n",
              "      <td>42.2.71.129</td>\n",
              "      <td>13.0</td>\n",
              "      <td>200.0</td>\n",
              "      <td>150.0</td>\n",
              "      <td>120.0</td>\n",
              "      <td>500.0</td>\n",
              "      <td>250</td>\n",
              "      <td>Non-binary / third gender</td>\n",
              "      <td>35.0</td>\n",
              "      <td>True</td>\n",
              "      <td>control</td>\n",
              "    </tr>\n",
              "    <tr>\n",
              "      <th>216</th>\n",
              "      <td>186.222.199.176</td>\n",
              "      <td>10.0</td>\n",
              "      <td>50.0</td>\n",
              "      <td>90.0</td>\n",
              "      <td>55.0</td>\n",
              "      <td>220.0</td>\n",
              "      <td>80</td>\n",
              "      <td>Female</td>\n",
              "      <td>16.0</td>\n",
              "      <td>True</td>\n",
              "      <td>treatment 2</td>\n",
              "    </tr>\n",
              "    <tr>\n",
              "      <th>217</th>\n",
              "      <td>186.222.199.176</td>\n",
              "      <td>12.0</td>\n",
              "      <td>150.0</td>\n",
              "      <td>208.0</td>\n",
              "      <td>92.0</td>\n",
              "      <td>2400.0</td>\n",
              "      <td>100</td>\n",
              "      <td>Female</td>\n",
              "      <td>67.0</td>\n",
              "      <td>True</td>\n",
              "      <td>treatment 2</td>\n",
              "    </tr>\n",
              "    <tr>\n",
              "      <th>218</th>\n",
              "      <td>186.222.199.176</td>\n",
              "      <td>12.0</td>\n",
              "      <td>328.0</td>\n",
              "      <td>350.0</td>\n",
              "      <td>130.0</td>\n",
              "      <td>450.0</td>\n",
              "      <td>120</td>\n",
              "      <td>Male</td>\n",
              "      <td>20.0</td>\n",
              "      <td>True</td>\n",
              "      <td>treatment 2</td>\n",
              "    </tr>\n",
              "  </tbody>\n",
              "</table>\n",
              "<p>219 rows × 11 columns</p>\n",
              "</div>\n",
              "    <div class=\"colab-df-buttons\">\n",
              "\n",
              "  <div class=\"colab-df-container\">\n",
              "    <button class=\"colab-df-convert\" onclick=\"convertToInteractive('df-fa2bc949-1a2f-4c87-8f20-75c688043b39')\"\n",
              "            title=\"Convert this dataframe to an interactive table.\"\n",
              "            style=\"display:none;\">\n",
              "\n",
              "  <svg xmlns=\"http://www.w3.org/2000/svg\" height=\"24px\" viewBox=\"0 -960 960 960\">\n",
              "    <path d=\"M120-120v-720h720v720H120Zm60-500h600v-160H180v160Zm220 220h160v-160H400v160Zm0 220h160v-160H400v160ZM180-400h160v-160H180v160Zm440 0h160v-160H620v160ZM180-180h160v-160H180v160Zm440 0h160v-160H620v160Z\"/>\n",
              "  </svg>\n",
              "    </button>\n",
              "\n",
              "  <style>\n",
              "    .colab-df-container {\n",
              "      display:flex;\n",
              "      gap: 12px;\n",
              "    }\n",
              "\n",
              "    .colab-df-convert {\n",
              "      background-color: #E8F0FE;\n",
              "      border: none;\n",
              "      border-radius: 50%;\n",
              "      cursor: pointer;\n",
              "      display: none;\n",
              "      fill: #1967D2;\n",
              "      height: 32px;\n",
              "      padding: 0 0 0 0;\n",
              "      width: 32px;\n",
              "    }\n",
              "\n",
              "    .colab-df-convert:hover {\n",
              "      background-color: #E2EBFA;\n",
              "      box-shadow: 0px 1px 2px rgba(60, 64, 67, 0.3), 0px 1px 3px 1px rgba(60, 64, 67, 0.15);\n",
              "      fill: #174EA6;\n",
              "    }\n",
              "\n",
              "    .colab-df-buttons div {\n",
              "      margin-bottom: 4px;\n",
              "    }\n",
              "\n",
              "    [theme=dark] .colab-df-convert {\n",
              "      background-color: #3B4455;\n",
              "      fill: #D2E3FC;\n",
              "    }\n",
              "\n",
              "    [theme=dark] .colab-df-convert:hover {\n",
              "      background-color: #434B5C;\n",
              "      box-shadow: 0px 1px 3px 1px rgba(0, 0, 0, 0.15);\n",
              "      filter: drop-shadow(0px 1px 2px rgba(0, 0, 0, 0.3));\n",
              "      fill: #FFFFFF;\n",
              "    }\n",
              "  </style>\n",
              "\n",
              "    <script>\n",
              "      const buttonEl =\n",
              "        document.querySelector('#df-fa2bc949-1a2f-4c87-8f20-75c688043b39 button.colab-df-convert');\n",
              "      buttonEl.style.display =\n",
              "        google.colab.kernel.accessAllowed ? 'block' : 'none';\n",
              "\n",
              "      async function convertToInteractive(key) {\n",
              "        const element = document.querySelector('#df-fa2bc949-1a2f-4c87-8f20-75c688043b39');\n",
              "        const dataTable =\n",
              "          await google.colab.kernel.invokeFunction('convertToInteractive',\n",
              "                                                    [key], {});\n",
              "        if (!dataTable) return;\n",
              "\n",
              "        const docLinkHtml = 'Like what you see? Visit the ' +\n",
              "          '<a target=\"_blank\" href=https://colab.research.google.com/notebooks/data_table.ipynb>data table notebook</a>'\n",
              "          + ' to learn more about interactive tables.';\n",
              "        element.innerHTML = '';\n",
              "        dataTable['output_type'] = 'display_data';\n",
              "        await google.colab.output.renderOutput(dataTable, element);\n",
              "        const docLink = document.createElement('div');\n",
              "        docLink.innerHTML = docLinkHtml;\n",
              "        element.appendChild(docLink);\n",
              "      }\n",
              "    </script>\n",
              "  </div>\n",
              "\n",
              "\n",
              "<div id=\"df-fa818f0b-e99e-41ab-9ec7-9ce07a469505\">\n",
              "  <button class=\"colab-df-quickchart\" onclick=\"quickchart('df-fa818f0b-e99e-41ab-9ec7-9ce07a469505')\"\n",
              "            title=\"Suggest charts\"\n",
              "            style=\"display:none;\">\n",
              "\n",
              "<svg xmlns=\"http://www.w3.org/2000/svg\" height=\"24px\"viewBox=\"0 0 24 24\"\n",
              "     width=\"24px\">\n",
              "    <g>\n",
              "        <path d=\"M19 3H5c-1.1 0-2 .9-2 2v14c0 1.1.9 2 2 2h14c1.1 0 2-.9 2-2V5c0-1.1-.9-2-2-2zM9 17H7v-7h2v7zm4 0h-2V7h2v10zm4 0h-2v-4h2v4z\"/>\n",
              "    </g>\n",
              "</svg>\n",
              "  </button>\n",
              "\n",
              "<style>\n",
              "  .colab-df-quickchart {\n",
              "      --bg-color: #E8F0FE;\n",
              "      --fill-color: #1967D2;\n",
              "      --hover-bg-color: #E2EBFA;\n",
              "      --hover-fill-color: #174EA6;\n",
              "      --disabled-fill-color: #AAA;\n",
              "      --disabled-bg-color: #DDD;\n",
              "  }\n",
              "\n",
              "  [theme=dark] .colab-df-quickchart {\n",
              "      --bg-color: #3B4455;\n",
              "      --fill-color: #D2E3FC;\n",
              "      --hover-bg-color: #434B5C;\n",
              "      --hover-fill-color: #FFFFFF;\n",
              "      --disabled-bg-color: #3B4455;\n",
              "      --disabled-fill-color: #666;\n",
              "  }\n",
              "\n",
              "  .colab-df-quickchart {\n",
              "    background-color: var(--bg-color);\n",
              "    border: none;\n",
              "    border-radius: 50%;\n",
              "    cursor: pointer;\n",
              "    display: none;\n",
              "    fill: var(--fill-color);\n",
              "    height: 32px;\n",
              "    padding: 0;\n",
              "    width: 32px;\n",
              "  }\n",
              "\n",
              "  .colab-df-quickchart:hover {\n",
              "    background-color: var(--hover-bg-color);\n",
              "    box-shadow: 0 1px 2px rgba(60, 64, 67, 0.3), 0 1px 3px 1px rgba(60, 64, 67, 0.15);\n",
              "    fill: var(--button-hover-fill-color);\n",
              "  }\n",
              "\n",
              "  .colab-df-quickchart-complete:disabled,\n",
              "  .colab-df-quickchart-complete:disabled:hover {\n",
              "    background-color: var(--disabled-bg-color);\n",
              "    fill: var(--disabled-fill-color);\n",
              "    box-shadow: none;\n",
              "  }\n",
              "\n",
              "  .colab-df-spinner {\n",
              "    border: 2px solid var(--fill-color);\n",
              "    border-color: transparent;\n",
              "    border-bottom-color: var(--fill-color);\n",
              "    animation:\n",
              "      spin 1s steps(1) infinite;\n",
              "  }\n",
              "\n",
              "  @keyframes spin {\n",
              "    0% {\n",
              "      border-color: transparent;\n",
              "      border-bottom-color: var(--fill-color);\n",
              "      border-left-color: var(--fill-color);\n",
              "    }\n",
              "    20% {\n",
              "      border-color: transparent;\n",
              "      border-left-color: var(--fill-color);\n",
              "      border-top-color: var(--fill-color);\n",
              "    }\n",
              "    30% {\n",
              "      border-color: transparent;\n",
              "      border-left-color: var(--fill-color);\n",
              "      border-top-color: var(--fill-color);\n",
              "      border-right-color: var(--fill-color);\n",
              "    }\n",
              "    40% {\n",
              "      border-color: transparent;\n",
              "      border-right-color: var(--fill-color);\n",
              "      border-top-color: var(--fill-color);\n",
              "    }\n",
              "    60% {\n",
              "      border-color: transparent;\n",
              "      border-right-color: var(--fill-color);\n",
              "    }\n",
              "    80% {\n",
              "      border-color: transparent;\n",
              "      border-right-color: var(--fill-color);\n",
              "      border-bottom-color: var(--fill-color);\n",
              "    }\n",
              "    90% {\n",
              "      border-color: transparent;\n",
              "      border-bottom-color: var(--fill-color);\n",
              "    }\n",
              "  }\n",
              "</style>\n",
              "\n",
              "  <script>\n",
              "    async function quickchart(key) {\n",
              "      const quickchartButtonEl =\n",
              "        document.querySelector('#' + key + ' button');\n",
              "      quickchartButtonEl.disabled = true;  // To prevent multiple clicks.\n",
              "      quickchartButtonEl.classList.add('colab-df-spinner');\n",
              "      try {\n",
              "        const charts = await google.colab.kernel.invokeFunction(\n",
              "            'suggestCharts', [key], {});\n",
              "      } catch (error) {\n",
              "        console.error('Error during call to suggestCharts:', error);\n",
              "      }\n",
              "      quickchartButtonEl.classList.remove('colab-df-spinner');\n",
              "      quickchartButtonEl.classList.add('colab-df-quickchart-complete');\n",
              "    }\n",
              "    (() => {\n",
              "      let quickchartButtonEl =\n",
              "        document.querySelector('#df-fa818f0b-e99e-41ab-9ec7-9ce07a469505 button');\n",
              "      quickchartButtonEl.style.display =\n",
              "        google.colab.kernel.accessAllowed ? 'block' : 'none';\n",
              "    })();\n",
              "  </script>\n",
              "</div>\n",
              "\n",
              "  <div id=\"id_59bda445-5c26-428c-86ea-58cb5619dfb2\">\n",
              "    <style>\n",
              "      .colab-df-generate {\n",
              "        background-color: #E8F0FE;\n",
              "        border: none;\n",
              "        border-radius: 50%;\n",
              "        cursor: pointer;\n",
              "        display: none;\n",
              "        fill: #1967D2;\n",
              "        height: 32px;\n",
              "        padding: 0 0 0 0;\n",
              "        width: 32px;\n",
              "      }\n",
              "\n",
              "      .colab-df-generate:hover {\n",
              "        background-color: #E2EBFA;\n",
              "        box-shadow: 0px 1px 2px rgba(60, 64, 67, 0.3), 0px 1px 3px 1px rgba(60, 64, 67, 0.15);\n",
              "        fill: #174EA6;\n",
              "      }\n",
              "\n",
              "      [theme=dark] .colab-df-generate {\n",
              "        background-color: #3B4455;\n",
              "        fill: #D2E3FC;\n",
              "      }\n",
              "\n",
              "      [theme=dark] .colab-df-generate:hover {\n",
              "        background-color: #434B5C;\n",
              "        box-shadow: 0px 1px 3px 1px rgba(0, 0, 0, 0.15);\n",
              "        filter: drop-shadow(0px 1px 2px rgba(0, 0, 0, 0.3));\n",
              "        fill: #FFFFFF;\n",
              "      }\n",
              "    </style>\n",
              "    <button class=\"colab-df-generate\" onclick=\"generateWithVariable('survey_df')\"\n",
              "            title=\"Generate code using this dataframe.\"\n",
              "            style=\"display:none;\">\n",
              "\n",
              "  <svg xmlns=\"http://www.w3.org/2000/svg\" height=\"24px\"viewBox=\"0 0 24 24\"\n",
              "       width=\"24px\">\n",
              "    <path d=\"M7,19H8.4L18.45,9,17,7.55,7,17.6ZM5,21V16.75L18.45,3.32a2,2,0,0,1,2.83,0l1.4,1.43a1.91,1.91,0,0,1,.58,1.4,1.91,1.91,0,0,1-.58,1.4L9.25,21ZM18.45,9,17,7.55Zm-12,3A5.31,5.31,0,0,0,4.9,8.1,5.31,5.31,0,0,0,1,6.5,5.31,5.31,0,0,0,4.9,4.9,5.31,5.31,0,0,0,6.5,1,5.31,5.31,0,0,0,8.1,4.9,5.31,5.31,0,0,0,12,6.5,5.46,5.46,0,0,0,6.5,12Z\"/>\n",
              "  </svg>\n",
              "    </button>\n",
              "    <script>\n",
              "      (() => {\n",
              "      const buttonEl =\n",
              "        document.querySelector('#id_59bda445-5c26-428c-86ea-58cb5619dfb2 button.colab-df-generate');\n",
              "      buttonEl.style.display =\n",
              "        google.colab.kernel.accessAllowed ? 'block' : 'none';\n",
              "\n",
              "      buttonEl.onclick = () => {\n",
              "        google.colab.notebook.generateWithVariable('survey_df');\n",
              "      }\n",
              "      })();\n",
              "    </script>\n",
              "  </div>\n",
              "\n",
              "    </div>\n",
              "  </div>\n"
            ],
            "application/vnd.google.colaboratory.intrinsic+json": {
              "type": "dataframe",
              "variable_name": "survey_df",
              "summary": "{\n  \"name\": \"survey_df\",\n  \"rows\": 219,\n  \"fields\": [\n    {\n      \"column\": \"IPAddress\",\n      \"properties\": {\n        \"dtype\": \"string\",\n        \"num_unique_values\": 192,\n        \"samples\": [\n          \"172.59.64.21\",\n          \"200.173.49.24\",\n          \"73.68.2.182\"\n        ],\n        \"semantic_type\": \"\",\n        \"description\": \"\"\n      }\n    },\n    {\n      \"column\": \"Q1\",\n      \"properties\": {\n        \"dtype\": \"number\",\n        \"std\": 2.291482097137075,\n        \"min\": 2.0,\n        \"max\": 20.0,\n        \"num_unique_values\": 15,\n        \"samples\": [\n          4.0,\n          6.0,\n          11.0\n        ],\n        \"semantic_type\": \"\",\n        \"description\": \"\"\n      }\n    },\n    {\n      \"column\": \"Q2\",\n      \"properties\": {\n        \"dtype\": \"number\",\n        \"std\": 388.5226946971708,\n        \"min\": 0.0,\n        \"max\": 4565.0,\n        \"num_unique_values\": 84,\n        \"samples\": [\n          387.0,\n          160.0,\n          240.0\n        ],\n        \"semantic_type\": \"\",\n        \"description\": \"\"\n      }\n    },\n    {\n      \"column\": \"Q3\",\n      \"properties\": {\n        \"dtype\": \"number\",\n        \"std\": 190.1061841006116,\n        \"min\": 0.0,\n        \"max\": 2000.0,\n        \"num_unique_values\": 83,\n        \"samples\": [\n          160.0,\n          180.0,\n          139.0\n        ],\n        \"semantic_type\": \"\",\n        \"description\": \"\"\n      }\n    },\n    {\n      \"column\": \"Q4\",\n      \"properties\": {\n        \"dtype\": \"number\",\n        \"std\": 215.60441505889153,\n        \"min\": 0.0,\n        \"max\": 3000.0,\n        \"num_unique_values\": 69,\n        \"samples\": [\n          190.0,\n          60.0,\n          140.0\n        ],\n        \"semantic_type\": \"\",\n        \"description\": \"\"\n      }\n    },\n    {\n      \"column\": \"Q5\",\n      \"properties\": {\n        \"dtype\": \"number\",\n        \"std\": 705.3936313207481,\n        \"min\": 0.0,\n        \"max\": 6969.0,\n        \"num_unique_values\": 67,\n        \"samples\": [\n          125.0,\n          348.0,\n          800.0\n        ],\n        \"semantic_type\": \"\",\n        \"description\": \"\"\n      }\n    },\n    {\n      \"column\": \"Q6\",\n      \"properties\": {\n        \"dtype\": \"category\",\n        \"num_unique_values\": 85,\n        \"samples\": [\n          \"89\",\n          \"180\",\n          \"957\"\n        ],\n        \"semantic_type\": \"\",\n        \"description\": \"\"\n      }\n    },\n    {\n      \"column\": \"Gender\",\n      \"properties\": {\n        \"dtype\": \"category\",\n        \"num_unique_values\": 3,\n        \"samples\": [\n          \"Female\",\n          \"Male\",\n          \"Non-binary / third gender\"\n        ],\n        \"semantic_type\": \"\",\n        \"description\": \"\"\n      }\n    },\n    {\n      \"column\": \"Age\",\n      \"properties\": {\n        \"dtype\": \"number\",\n        \"std\": 13.783437976484079,\n        \"min\": 8.0,\n        \"max\": 73.0,\n        \"num_unique_values\": 52,\n        \"samples\": [\n          43.0,\n          42.0,\n          20.0\n        ],\n        \"semantic_type\": \"\",\n        \"description\": \"\"\n      }\n    },\n    {\n      \"column\": \"passed_check\",\n      \"properties\": {\n        \"dtype\": \"boolean\",\n        \"num_unique_values\": 2,\n        \"samples\": [\n          false,\n          true\n        ],\n        \"semantic_type\": \"\",\n        \"description\": \"\"\n      }\n    },\n    {\n      \"column\": \"group\",\n      \"properties\": {\n        \"dtype\": \"category\",\n        \"num_unique_values\": 3,\n        \"samples\": [\n          \"treatment 1\",\n          \"treatment 2\"\n        ],\n        \"semantic_type\": \"\",\n        \"description\": \"\"\n      }\n    }\n  ]\n}"
            }
          },
          "metadata": {},
          "execution_count": 9
        }
      ]
    },
    {
      "cell_type": "code",
      "source": [
        "survey_df.group.value_counts()"
      ],
      "metadata": {
        "colab": {
          "base_uri": "https://localhost:8080/"
        },
        "id": "BAVe0gMMeStO",
        "outputId": "a20bed82-493a-464d-ab9f-c844f820d3a8"
      },
      "execution_count": 10,
      "outputs": [
        {
          "output_type": "execute_result",
          "data": {
            "text/plain": [
              "treatment 2    81\n",
              "control        80\n",
              "treatment 1    58\n",
              "Name: group, dtype: int64"
            ]
          },
          "metadata": {},
          "execution_count": 10
        }
      ]
    },
    {
      "cell_type": "code",
      "source": [
        "#Removing duplicates\n",
        "survey_df = survey_df.drop_duplicates(subset = ['IPAddress'], keep = 'first')"
      ],
      "metadata": {
        "id": "4fXYq1IYedFa"
      },
      "execution_count": 11,
      "outputs": []
    },
    {
      "cell_type": "code",
      "source": [
        "survey_df.group.value_counts()"
      ],
      "metadata": {
        "colab": {
          "base_uri": "https://localhost:8080/"
        },
        "id": "3V5dw9H4e9Io",
        "outputId": "b10f8888-9f68-4a7f-a0d7-97e273a99228"
      },
      "execution_count": 12,
      "outputs": [
        {
          "output_type": "execute_result",
          "data": {
            "text/plain": [
              "treatment 2    73\n",
              "control        70\n",
              "treatment 1    49\n",
              "Name: group, dtype: int64"
            ]
          },
          "metadata": {},
          "execution_count": 12
        }
      ]
    },
    {
      "cell_type": "markdown",
      "source": [
        "## Sample Size Calculation"
      ],
      "metadata": {
        "id": "C_ahOWH3veYV"
      }
    },
    {
      "cell_type": "code",
      "source": [
        "### Calculating Cohen's D 1.\n",
        "### From experiment: general knowledge question estimations (Seattle temp, GW death age)\n",
        "\n",
        "mean1 = 0.44\n",
        "mean2 = -0.43\n",
        "dims = mean1 - mean2\n",
        "assumed_std = 1\n",
        "\n",
        "cohen_d_1 = dims/assumed_std\n",
        "\n",
        "### Calculating Cohen's D 2.\n",
        "#From experiment: Same as 1 but with extreme anchors.\n",
        "\n",
        "mean1 = 0.33\n",
        "mean2 = -0.33\n",
        "dims = mean1 - mean2\n",
        "assumed_std = 1\n",
        "\n",
        "cohen_d_2 = dims/assumed_std\n",
        "\n",
        "### Calculating Cohen's D 3.\n",
        "### From experiment: mean Feb temperatures in Germany\n",
        "\n",
        "mean1 = 14.89\n",
        "mean2 = 12.82\n",
        "dims = mean1 - mean2\n",
        "std = 2.61\n",
        "\n",
        "cohen_d_3 = dims/std\n",
        "\n",
        "### Calculating Cohen's D 4.\n",
        "### From experiment: Car price experiment\n",
        "\n",
        "mean1 = 21219\n",
        "mean2 = 17150\n",
        "dims = mean1 - mean2\n",
        "std = 4840\n",
        "\n",
        "cohen_d_4 = dims/std\n",
        "\n",
        "#Calculating average cohens d\n",
        "\n",
        "avg_cohen_d = (cohen_d_1+cohen_d_2+cohen_d_3+cohen_d_4)/4\n",
        "\n",
        "\n",
        "print(cohen_d_1)\n",
        "print(cohen_d_2)\n",
        "print(cohen_d_3)\n",
        "print(cohen_d_4)\n",
        "print(avg_cohen_d)"
      ],
      "metadata": {
        "colab": {
          "base_uri": "https://localhost:8080/"
        },
        "id": "HG7NnbrYvGy-",
        "outputId": "a03f905f-7118-4e2e-da81-7617024cc7d2"
      },
      "execution_count": 13,
      "outputs": [
        {
          "output_type": "stream",
          "name": "stdout",
          "text": [
            "0.87\n",
            "0.66\n",
            "0.7931034482758622\n",
            "0.840702479338843\n",
            "0.7909514819036764\n"
          ]
        }
      ]
    },
    {
      "cell_type": "code",
      "source": [
        "pip install --upgrade statsmodels\n"
      ],
      "metadata": {
        "colab": {
          "base_uri": "https://localhost:8080/"
        },
        "id": "7r8dWlZzxN6F",
        "outputId": "586bab59-92ba-4bbc-c3a0-cfafe1bd8b8f"
      },
      "execution_count": 14,
      "outputs": [
        {
          "output_type": "stream",
          "name": "stdout",
          "text": [
            "Requirement already satisfied: statsmodels in /usr/local/lib/python3.10/dist-packages (0.14.1)\n",
            "Requirement already satisfied: numpy<2,>=1.18 in /usr/local/lib/python3.10/dist-packages (from statsmodels) (1.25.2)\n",
            "Requirement already satisfied: scipy!=1.9.2,>=1.4 in /usr/local/lib/python3.10/dist-packages (from statsmodels) (1.11.4)\n",
            "Requirement already satisfied: pandas!=2.1.0,>=1.0 in /usr/local/lib/python3.10/dist-packages (from statsmodels) (1.5.3)\n",
            "Requirement already satisfied: patsy>=0.5.4 in /usr/local/lib/python3.10/dist-packages (from statsmodels) (0.5.6)\n",
            "Requirement already satisfied: packaging>=21.3 in /usr/local/lib/python3.10/dist-packages (from statsmodels) (23.2)\n",
            "Requirement already satisfied: python-dateutil>=2.8.1 in /usr/local/lib/python3.10/dist-packages (from pandas!=2.1.0,>=1.0->statsmodels) (2.8.2)\n",
            "Requirement already satisfied: pytz>=2020.1 in /usr/local/lib/python3.10/dist-packages (from pandas!=2.1.0,>=1.0->statsmodels) (2023.4)\n",
            "Requirement already satisfied: six in /usr/local/lib/python3.10/dist-packages (from patsy>=0.5.4->statsmodels) (1.16.0)\n"
          ]
        }
      ]
    },
    {
      "cell_type": "code",
      "source": [
        "# Statistical Power\n",
        "from statsmodels.stats.power import TTestPower\n",
        "\n",
        "true_effect = 1\n",
        "\n",
        "n = TTestPower() .solve_power(effect_size = avg_cohen_d,\\\n",
        "nobs = None, alpha = .01, power = 0.95, alternative='two-sided')\n",
        "\n",
        "print (f\"Necessary sample size: {np.ceil(n)}\")"
      ],
      "metadata": {
        "colab": {
          "base_uri": "https://localhost:8080/"
        },
        "id": "79UnnzIfw64E",
        "outputId": "0ff9ef70-65db-45cf-d361-41dc44f195ae"
      },
      "execution_count": 15,
      "outputs": [
        {
          "output_type": "stream",
          "name": "stdout",
          "text": [
            "Necessary sample size: 32.0\n"
          ]
        }
      ]
    },
    {
      "cell_type": "markdown",
      "source": [
        "## Proportions Z Test"
      ],
      "metadata": {
        "id": "cr-lUZ5x6kP3"
      }
    },
    {
      "cell_type": "code",
      "source": [
        "from statsmodels.stats.proportion import proportions_ztest\n",
        "\n",
        "n_treated = survey_df[(survey_df['group'] == 'treatment 1') | (survey_df['group'] == 'treatment 2')].shape[0]\n",
        "n = survey_df.shape[0]\n",
        "\n",
        "_, p_val = proportions_ztest(n_treated, n, value = 2/3)\n",
        "print(f\"The p-value for the proportions test between treatment and control is {p_val:.2} so we fail to reject the null hypothesis of proper randomization\")"
      ],
      "metadata": {
        "colab": {
          "base_uri": "https://localhost:8080/"
        },
        "id": "tieRVQ2G47Ni",
        "outputId": "d97cb734-57cf-4332-fa7c-884fe6eabf21"
      },
      "execution_count": 16,
      "outputs": [
        {
          "output_type": "stream",
          "name": "stdout",
          "text": [
            "The p-value for the proportions test between treatment and control is 0.37 so we fail to reject the null hypothesis of proper randomization\n"
          ]
        }
      ]
    },
    {
      "cell_type": "markdown",
      "source": [
        "## Randomization Checker"
      ],
      "metadata": {
        "id": "RJ6gpYEq9zsN"
      }
    },
    {
      "cell_type": "code",
      "source": [
        "pip install statsmodels stargazer"
      ],
      "metadata": {
        "colab": {
          "base_uri": "https://localhost:8080/"
        },
        "id": "xq6_S-YsaCkS",
        "outputId": "820e5998-fc51-46eb-da54-0810f5d3d534"
      },
      "execution_count": 17,
      "outputs": [
        {
          "output_type": "stream",
          "name": "stdout",
          "text": [
            "Requirement already satisfied: statsmodels in /usr/local/lib/python3.10/dist-packages (0.14.1)\n",
            "Collecting stargazer\n",
            "  Downloading stargazer-0.0.6-py3-none-any.whl (11 kB)\n",
            "Requirement already satisfied: numpy<2,>=1.18 in /usr/local/lib/python3.10/dist-packages (from statsmodels) (1.25.2)\n",
            "Requirement already satisfied: scipy!=1.9.2,>=1.4 in /usr/local/lib/python3.10/dist-packages (from statsmodels) (1.11.4)\n",
            "Requirement already satisfied: pandas!=2.1.0,>=1.0 in /usr/local/lib/python3.10/dist-packages (from statsmodels) (1.5.3)\n",
            "Requirement already satisfied: patsy>=0.5.4 in /usr/local/lib/python3.10/dist-packages (from statsmodels) (0.5.6)\n",
            "Requirement already satisfied: packaging>=21.3 in /usr/local/lib/python3.10/dist-packages (from statsmodels) (23.2)\n",
            "Requirement already satisfied: python-dateutil>=2.8.1 in /usr/local/lib/python3.10/dist-packages (from pandas!=2.1.0,>=1.0->statsmodels) (2.8.2)\n",
            "Requirement already satisfied: pytz>=2020.1 in /usr/local/lib/python3.10/dist-packages (from pandas!=2.1.0,>=1.0->statsmodels) (2023.4)\n",
            "Requirement already satisfied: six in /usr/local/lib/python3.10/dist-packages (from patsy>=0.5.4->statsmodels) (1.16.0)\n",
            "Installing collected packages: stargazer\n",
            "Successfully installed stargazer-0.0.6\n"
          ]
        }
      ]
    },
    {
      "cell_type": "code",
      "source": [
        "import numpy as np\n",
        "\n",
        "conditions = [\n",
        "    survey_df['group'] == 'control',\n",
        "    survey_df['group'] == 'treatment 1'\n",
        "]\n",
        "\n",
        "values = [0, 1]\n",
        "\n",
        "default_value = 2\n",
        "\n",
        "survey_df['treatment_arm'] = np.select(conditions, values, default=default_value)\n",
        "survey_df['Gender_numeric'] = survey_df['Gender'].map({'Male': 1, 'Female': 0, 'Non-binary / third gende': 2})"
      ],
      "metadata": {
        "colab": {
          "base_uri": "https://localhost:8080/"
        },
        "id": "JUsotTUb9zcm",
        "outputId": "394c6ad1-8cb6-4655-9561-c62af82c4107"
      },
      "execution_count": 18,
      "outputs": [
        {
          "output_type": "stream",
          "name": "stderr",
          "text": [
            "<ipython-input-18-529e0858e0c7>:12: SettingWithCopyWarning: \n",
            "A value is trying to be set on a copy of a slice from a DataFrame.\n",
            "Try using .loc[row_indexer,col_indexer] = value instead\n",
            "\n",
            "See the caveats in the documentation: https://pandas.pydata.org/pandas-docs/stable/user_guide/indexing.html#returning-a-view-versus-a-copy\n",
            "  survey_df['treatment_arm'] = np.select(conditions, values, default=default_value)\n",
            "<ipython-input-18-529e0858e0c7>:13: SettingWithCopyWarning: \n",
            "A value is trying to be set on a copy of a slice from a DataFrame.\n",
            "Try using .loc[row_indexer,col_indexer] = value instead\n",
            "\n",
            "See the caveats in the documentation: https://pandas.pydata.org/pandas-docs/stable/user_guide/indexing.html#returning-a-view-versus-a-copy\n",
            "  survey_df['Gender_numeric'] = survey_df['Gender'].map({'Male': 1, 'Female': 0, 'Non-binary / third gende': 2})\n"
          ]
        }
      ]
    },
    {
      "cell_type": "markdown",
      "source": [
        "### Control v Treatments"
      ],
      "metadata": {
        "id": "q9ISjWpj-G03"
      }
    },
    {
      "cell_type": "code",
      "source": [
        "import statsmodels.api as sm\n",
        "from stargazer.stargazer import Stargazer\n",
        "\n",
        "model_treatment_arm_gender = sm.OLS.from_formula('Gender_numeric ~ C(treatment_arm)', data=survey_df).fit()\n",
        "model_treatment_arm_age = sm.OLS.from_formula('Age ~ C(treatment_arm)', data=survey_df).fit()\n",
        "\n",
        "stargazer = Stargazer([model_treatment_arm_gender, model_treatment_arm_age])\n",
        "stargazer.custom_columns(['Gender Model', 'Age Model'])\n",
        "\n",
        "stargazer.show_model_numbers = False\n",
        "stargazer.show_degrees_of_freedom = False\n",
        "stargazer.show_r2 = False\n",
        "stargazer.show_adj_r2 = False\n",
        "stargazer.show_residual_std_err = False\n",
        "stargazer.show_f_statistic = False\n",
        "stargazer.show_nobs = False\n",
        "\n",
        "stargazer.rename_covariates({'Intercept': 'Control', 'C(treatment_arm)[T.1]':'Treatment 1', 'C(treatment_arm)[T.2]': 'Treatment 2'})\n",
        "stargazer"
      ],
      "metadata": {
        "colab": {
          "base_uri": "https://localhost:8080/",
          "height": 0
        },
        "id": "LQ1aR9Ux9-Ct",
        "outputId": "72a69084-a796-4878-bf9b-814f0b7a9da6"
      },
      "execution_count": 19,
      "outputs": [
        {
          "output_type": "execute_result",
          "data": {
            "text/plain": [
              "<stargazer.stargazer.Stargazer at 0x7d61c88778e0>"
            ],
            "text/html": [
              "<table style=\"text-align:center\"><tr><td colspan=\"3\" style=\"border-bottom: 1px solid black\"></td></tr>\n",
              "<tr><td style=\"text-align:left\"></td><tr><td></td><td colspan=\"1\">Gender Model</td><td colspan=\"1\">Age Model</td></tr><tr><td style=\"text-align:left\"></td><td>(1)</td><td>(2)</td></tr>\n",
              "<tr><td colspan=\"3\" style=\"border-bottom: 1px solid black\"></td></tr>\n",
              "\n",
              "<tr><td style=\"text-align:left\">Treatment 1</td><td>-0.030<sup></sup></td><td>-5.261<sup>**</sup></td></tr>\n",
              "<tr><td style=\"text-align:left\"></td><td>(0.095)</td><td>(2.485)</td></tr>\n",
              "<tr><td style=\"text-align:left\">Treatment 2</td><td>0.009<sup></sup></td><td>-3.404<sup></sup></td></tr>\n",
              "<tr><td style=\"text-align:left\"></td><td>(0.085)</td><td>(2.256)</td></tr>\n",
              "<tr><td style=\"text-align:left\">Control</td><td>0.456<sup>***</sup></td><td>35.303<sup>***</sup></td></tr>\n",
              "<tr><td style=\"text-align:left\"></td><td>(0.061)</td><td>(1.613)</td></tr>\n",
              "\n",
              "<td colspan=\"3\" style=\"border-bottom: 1px solid black\"></td></tr>\n",
              "<tr><td style=\"text-align: left\">Observations</td><td>186</td><td>183</td></tr>\n",
              "<tr><td colspan=\"3\" style=\"border-bottom: 1px solid black\"></td></tr><tr><td style=\"text-align: left\">Note:</td><td colspan=\"2\" style=\"text-align: right\"><sup>*</sup>p&lt;0.1; <sup>**</sup>p&lt;0.05; <sup>***</sup>p&lt;0.01</td></tr></table>"
            ]
          },
          "metadata": {},
          "execution_count": 19
        }
      ]
    },
    {
      "cell_type": "markdown",
      "source": [
        "### Treatment 1 vs Treatment 2"
      ],
      "metadata": {
        "id": "Ox8Ikq7K-I2r"
      }
    },
    {
      "cell_type": "code",
      "source": [
        "survey_df_treatmentcheck = survey_df[survey_df['treatment_arm']!=0]"
      ],
      "metadata": {
        "id": "qSoLxTPx-Dlu"
      },
      "execution_count": 20,
      "outputs": []
    },
    {
      "cell_type": "code",
      "source": [
        "model_treatment_arm_gender = sm.OLS.from_formula('Gender_numeric ~ C(treatment_arm)', data=survey_df_treatmentcheck).fit()\n",
        "model_treatment_arm_age = sm.OLS.from_formula('Age ~ C(treatment_arm)', data=survey_df_treatmentcheck).fit()\n",
        "\n",
        "stargazer = Stargazer([model_treatment_arm_gender, model_treatment_arm_age])\n",
        "stargazer.custom_columns(['Gender Model', 'Age Model'])\n",
        "\n",
        "stargazer.show_model_numbers = False\n",
        "stargazer.show_degrees_of_freedom = False\n",
        "stargazer.show_r2 = False\n",
        "stargazer.show_adj_r2 = False\n",
        "stargazer.show_residual_std_err = False\n",
        "stargazer.show_f_statistic = False\n",
        "stargazer.show_nobs = False\n",
        "\n",
        "stargazer.rename_covariates({'Intercept': 'Treatment 1', 'C(treatment_arm)[T.2]': 'Treatment 2'})\n",
        "stargazer"
      ],
      "metadata": {
        "colab": {
          "base_uri": "https://localhost:8080/",
          "height": 221
        },
        "id": "RIZayXPH-Fnc",
        "outputId": "ffe4b7f1-4922-4bed-dd6b-3aaf12ada338"
      },
      "execution_count": 21,
      "outputs": [
        {
          "output_type": "execute_result",
          "data": {
            "text/plain": [
              "<stargazer.stargazer.Stargazer at 0x7d61c2b1f970>"
            ],
            "text/html": [
              "<table style=\"text-align:center\"><tr><td colspan=\"3\" style=\"border-bottom: 1px solid black\"></td></tr>\n",
              "<tr><td style=\"text-align:left\"></td><tr><td></td><td colspan=\"1\">Gender Model</td><td colspan=\"1\">Age Model</td></tr><tr><td style=\"text-align:left\"></td><td>(1)</td><td>(2)</td></tr>\n",
              "<tr><td colspan=\"3\" style=\"border-bottom: 1px solid black\"></td></tr>\n",
              "\n",
              "<tr><td style=\"text-align:left\">Treatment 2</td><td>0.039<sup></sup></td><td>1.857<sup></sup></td></tr>\n",
              "<tr><td style=\"text-align:left\"></td><td>(0.094)</td><td>(2.402)</td></tr>\n",
              "<tr><td style=\"text-align:left\">Treatment 1</td><td>0.426<sup>***</sup></td><td>30.042<sup>***</sup></td></tr>\n",
              "<tr><td style=\"text-align:left\"></td><td>(0.073)</td><td>(1.845)</td></tr>\n",
              "\n",
              "<td colspan=\"3\" style=\"border-bottom: 1px solid black\"></td></tr>\n",
              "<tr><td style=\"text-align: left\">Observations</td><td>118</td><td>117</td></tr>\n",
              "<tr><td colspan=\"3\" style=\"border-bottom: 1px solid black\"></td></tr><tr><td style=\"text-align: left\">Note:</td><td colspan=\"2\" style=\"text-align: right\"><sup>*</sup>p&lt;0.1; <sup>**</sup>p&lt;0.05; <sup>***</sup>p&lt;0.01</td></tr></table>"
            ]
          },
          "metadata": {},
          "execution_count": 21
        }
      ]
    },
    {
      "cell_type": "markdown",
      "source": [
        "##Regressions (additive assumptions)"
      ],
      "metadata": {
        "id": "KGslGLHxbSLa"
      }
    },
    {
      "cell_type": "markdown",
      "source": [
        "### Regression 1 (All records)"
      ],
      "metadata": {
        "id": "FbI8_A8S4t-b"
      }
    },
    {
      "cell_type": "markdown",
      "source": [
        "####Installs"
      ],
      "metadata": {
        "id": "N_YIwECFczUG"
      }
    },
    {
      "cell_type": "code",
      "source": [
        "!pip install pyfixest\n",
        "from pyfixest.estimation import feols\n",
        "from pyfixest.utils import get_data\n",
        "from pyfixest import etable"
      ],
      "metadata": {
        "colab": {
          "base_uri": "https://localhost:8080/"
        },
        "id": "ciyKOhhVcr2C",
        "outputId": "f226ef4b-0378-4997-e0a3-46600ef7b8ce"
      },
      "execution_count": 22,
      "outputs": [
        {
          "output_type": "stream",
          "name": "stdout",
          "text": [
            "Collecting pyfixest\n",
            "  Downloading pyfixest-0.17.1-py3-none-any.whl (2.1 MB)\n",
            "\u001b[2K     \u001b[90m━━━━━━━━━━━━━━━━━━━━━━━━━━━━━━━━━━━━━━━━\u001b[0m \u001b[32m2.1/2.1 MB\u001b[0m \u001b[31m11.3 MB/s\u001b[0m eta \u001b[36m0:00:00\u001b[0m\n",
            "\u001b[?25hCollecting formulaic<1.0.0,>=0.6.6 (from pyfixest)\n",
            "  Downloading formulaic-0.6.6-py3-none-any.whl (91 kB)\n",
            "\u001b[2K     \u001b[90m━━━━━━━━━━━━━━━━━━━━━━━━━━━━━━━━━━━━━━━━\u001b[0m \u001b[32m91.0/91.0 kB\u001b[0m \u001b[31m12.6 MB/s\u001b[0m eta \u001b[36m0:00:00\u001b[0m\n",
            "\u001b[?25hCollecting lets-plot>=4.0.1 (from pyfixest)\n",
            "  Downloading lets_plot-4.2.0-cp310-cp310-manylinux_2_17_x86_64.manylinux2014_x86_64.whl (2.9 MB)\n",
            "\u001b[2K     \u001b[90m━━━━━━━━━━━━━━━━━━━━━━━━━━━━━━━━━━━━━━━━\u001b[0m \u001b[32m2.9/2.9 MB\u001b[0m \u001b[31m20.6 MB/s\u001b[0m eta \u001b[36m0:00:00\u001b[0m\n",
            "\u001b[?25hRequirement already satisfied: numba>=0.58.0 in /usr/local/lib/python3.10/dist-packages (from pyfixest) (0.58.1)\n",
            "Requirement already satisfied: numpy>=1.19.0 in /usr/local/lib/python3.10/dist-packages (from pyfixest) (1.25.2)\n",
            "Requirement already satisfied: pandas>=1.1.0 in /usr/local/lib/python3.10/dist-packages (from pyfixest) (1.5.3)\n",
            "Requirement already satisfied: scipy>=1.6 in /usr/local/lib/python3.10/dist-packages (from pyfixest) (1.11.4)\n",
            "Requirement already satisfied: tabulate>=0.9.0 in /usr/local/lib/python3.10/dist-packages (from pyfixest) (0.9.0)\n",
            "Collecting astor>=0.8 (from formulaic<1.0.0,>=0.6.6->pyfixest)\n",
            "  Downloading astor-0.8.1-py2.py3-none-any.whl (27 kB)\n",
            "Collecting interface-meta>=1.2.0 (from formulaic<1.0.0,>=0.6.6->pyfixest)\n",
            "  Downloading interface_meta-1.3.0-py3-none-any.whl (14 kB)\n",
            "Requirement already satisfied: typing-extensions>=4.2.0 in /usr/local/lib/python3.10/dist-packages (from formulaic<1.0.0,>=0.6.6->pyfixest) (4.10.0)\n",
            "Requirement already satisfied: wrapt>=1.0 in /usr/local/lib/python3.10/dist-packages (from formulaic<1.0.0,>=0.6.6->pyfixest) (1.14.1)\n",
            "Collecting pypng (from lets-plot>=4.0.1->pyfixest)\n",
            "  Downloading pypng-0.20220715.0-py3-none-any.whl (58 kB)\n",
            "\u001b[2K     \u001b[90m━━━━━━━━━━━━━━━━━━━━━━━━━━━━━━━━━━━━━━━━\u001b[0m \u001b[32m58.1/58.1 kB\u001b[0m \u001b[31m7.2 MB/s\u001b[0m eta \u001b[36m0:00:00\u001b[0m\n",
            "\u001b[?25hCollecting palettable (from lets-plot>=4.0.1->pyfixest)\n",
            "  Downloading palettable-3.3.3-py2.py3-none-any.whl (332 kB)\n",
            "\u001b[2K     \u001b[90m━━━━━━━━━━━━━━━━━━━━━━━━━━━━━━━━━━━━━━━━\u001b[0m \u001b[32m332.3/332.3 kB\u001b[0m \u001b[31m32.3 MB/s\u001b[0m eta \u001b[36m0:00:00\u001b[0m\n",
            "\u001b[?25hRequirement already satisfied: llvmlite<0.42,>=0.41.0dev0 in /usr/local/lib/python3.10/dist-packages (from numba>=0.58.0->pyfixest) (0.41.1)\n",
            "Requirement already satisfied: python-dateutil>=2.8.1 in /usr/local/lib/python3.10/dist-packages (from pandas>=1.1.0->pyfixest) (2.8.2)\n",
            "Requirement already satisfied: pytz>=2020.1 in /usr/local/lib/python3.10/dist-packages (from pandas>=1.1.0->pyfixest) (2023.4)\n",
            "Requirement already satisfied: six>=1.5 in /usr/local/lib/python3.10/dist-packages (from python-dateutil>=2.8.1->pandas>=1.1.0->pyfixest) (1.16.0)\n",
            "Installing collected packages: pypng, palettable, interface-meta, astor, lets-plot, formulaic, pyfixest\n",
            "Successfully installed astor-0.8.1 formulaic-0.6.6 interface-meta-1.3.0 lets-plot-4.2.0 palettable-3.3.3 pyfixest-0.17.1 pypng-0.20220715.0\n"
          ]
        }
      ]
    },
    {
      "cell_type": "markdown",
      "source": [
        "####Data Prep"
      ],
      "metadata": {
        "id": "-ZKdxXBMc2Yp"
      }
    },
    {
      "cell_type": "code",
      "source": [
        "#Create new DataFrame\n",
        "df_all = survey_df.copy(deep=True)"
      ],
      "metadata": {
        "id": "f4HsTlREbPM1"
      },
      "execution_count": 23,
      "outputs": []
    },
    {
      "cell_type": "code",
      "source": [
        "#Given that one IPAdress can make multiple estimates we first need to melt the df\n",
        "melted_df_all = df_all.melt(id_vars=['IPAddress', 'Gender', 'Age', 'group'],\n",
        "                           value_vars=['Q1', 'Q2', 'Q3', 'Q4', 'Q5', 'Q6'],\n",
        "                           var_name='Question',\n",
        "                           value_name='Score')\n",
        "\n",
        "melted_df_all.sort_values(by='IPAddress').head(2)"
      ],
      "metadata": {
        "colab": {
          "base_uri": "https://localhost:8080/",
          "height": 112
        },
        "id": "cSZmt1hfcMlq",
        "outputId": "37c702e6-e0c1-4f20-c20c-a87582d2413f"
      },
      "execution_count": 24,
      "outputs": [
        {
          "output_type": "execute_result",
          "data": {
            "text/plain": [
              "          IPAddress Gender   Age    group Question  Score\n",
              "252  103.49.252.230   Male  23.0  control       Q2  146.0\n",
              "828  103.49.252.230   Male  23.0  control       Q5  225.0"
            ],
            "text/html": [
              "\n",
              "  <div id=\"df-fff9dbac-ce59-439f-9da1-0a023ab606d9\" class=\"colab-df-container\">\n",
              "    <div>\n",
              "<style scoped>\n",
              "    .dataframe tbody tr th:only-of-type {\n",
              "        vertical-align: middle;\n",
              "    }\n",
              "\n",
              "    .dataframe tbody tr th {\n",
              "        vertical-align: top;\n",
              "    }\n",
              "\n",
              "    .dataframe thead th {\n",
              "        text-align: right;\n",
              "    }\n",
              "</style>\n",
              "<table border=\"1\" class=\"dataframe\">\n",
              "  <thead>\n",
              "    <tr style=\"text-align: right;\">\n",
              "      <th></th>\n",
              "      <th>IPAddress</th>\n",
              "      <th>Gender</th>\n",
              "      <th>Age</th>\n",
              "      <th>group</th>\n",
              "      <th>Question</th>\n",
              "      <th>Score</th>\n",
              "    </tr>\n",
              "  </thead>\n",
              "  <tbody>\n",
              "    <tr>\n",
              "      <th>252</th>\n",
              "      <td>103.49.252.230</td>\n",
              "      <td>Male</td>\n",
              "      <td>23.0</td>\n",
              "      <td>control</td>\n",
              "      <td>Q2</td>\n",
              "      <td>146.0</td>\n",
              "    </tr>\n",
              "    <tr>\n",
              "      <th>828</th>\n",
              "      <td>103.49.252.230</td>\n",
              "      <td>Male</td>\n",
              "      <td>23.0</td>\n",
              "      <td>control</td>\n",
              "      <td>Q5</td>\n",
              "      <td>225.0</td>\n",
              "    </tr>\n",
              "  </tbody>\n",
              "</table>\n",
              "</div>\n",
              "    <div class=\"colab-df-buttons\">\n",
              "\n",
              "  <div class=\"colab-df-container\">\n",
              "    <button class=\"colab-df-convert\" onclick=\"convertToInteractive('df-fff9dbac-ce59-439f-9da1-0a023ab606d9')\"\n",
              "            title=\"Convert this dataframe to an interactive table.\"\n",
              "            style=\"display:none;\">\n",
              "\n",
              "  <svg xmlns=\"http://www.w3.org/2000/svg\" height=\"24px\" viewBox=\"0 -960 960 960\">\n",
              "    <path d=\"M120-120v-720h720v720H120Zm60-500h600v-160H180v160Zm220 220h160v-160H400v160Zm0 220h160v-160H400v160ZM180-400h160v-160H180v160Zm440 0h160v-160H620v160ZM180-180h160v-160H180v160Zm440 0h160v-160H620v160Z\"/>\n",
              "  </svg>\n",
              "    </button>\n",
              "\n",
              "  <style>\n",
              "    .colab-df-container {\n",
              "      display:flex;\n",
              "      gap: 12px;\n",
              "    }\n",
              "\n",
              "    .colab-df-convert {\n",
              "      background-color: #E8F0FE;\n",
              "      border: none;\n",
              "      border-radius: 50%;\n",
              "      cursor: pointer;\n",
              "      display: none;\n",
              "      fill: #1967D2;\n",
              "      height: 32px;\n",
              "      padding: 0 0 0 0;\n",
              "      width: 32px;\n",
              "    }\n",
              "\n",
              "    .colab-df-convert:hover {\n",
              "      background-color: #E2EBFA;\n",
              "      box-shadow: 0px 1px 2px rgba(60, 64, 67, 0.3), 0px 1px 3px 1px rgba(60, 64, 67, 0.15);\n",
              "      fill: #174EA6;\n",
              "    }\n",
              "\n",
              "    .colab-df-buttons div {\n",
              "      margin-bottom: 4px;\n",
              "    }\n",
              "\n",
              "    [theme=dark] .colab-df-convert {\n",
              "      background-color: #3B4455;\n",
              "      fill: #D2E3FC;\n",
              "    }\n",
              "\n",
              "    [theme=dark] .colab-df-convert:hover {\n",
              "      background-color: #434B5C;\n",
              "      box-shadow: 0px 1px 3px 1px rgba(0, 0, 0, 0.15);\n",
              "      filter: drop-shadow(0px 1px 2px rgba(0, 0, 0, 0.3));\n",
              "      fill: #FFFFFF;\n",
              "    }\n",
              "  </style>\n",
              "\n",
              "    <script>\n",
              "      const buttonEl =\n",
              "        document.querySelector('#df-fff9dbac-ce59-439f-9da1-0a023ab606d9 button.colab-df-convert');\n",
              "      buttonEl.style.display =\n",
              "        google.colab.kernel.accessAllowed ? 'block' : 'none';\n",
              "\n",
              "      async function convertToInteractive(key) {\n",
              "        const element = document.querySelector('#df-fff9dbac-ce59-439f-9da1-0a023ab606d9');\n",
              "        const dataTable =\n",
              "          await google.colab.kernel.invokeFunction('convertToInteractive',\n",
              "                                                    [key], {});\n",
              "        if (!dataTable) return;\n",
              "\n",
              "        const docLinkHtml = 'Like what you see? Visit the ' +\n",
              "          '<a target=\"_blank\" href=https://colab.research.google.com/notebooks/data_table.ipynb>data table notebook</a>'\n",
              "          + ' to learn more about interactive tables.';\n",
              "        element.innerHTML = '';\n",
              "        dataTable['output_type'] = 'display_data';\n",
              "        await google.colab.output.renderOutput(dataTable, element);\n",
              "        const docLink = document.createElement('div');\n",
              "        docLink.innerHTML = docLinkHtml;\n",
              "        element.appendChild(docLink);\n",
              "      }\n",
              "    </script>\n",
              "  </div>\n",
              "\n",
              "\n",
              "<div id=\"df-27ce4314-6fe2-4bcd-b07c-b616d4f1233f\">\n",
              "  <button class=\"colab-df-quickchart\" onclick=\"quickchart('df-27ce4314-6fe2-4bcd-b07c-b616d4f1233f')\"\n",
              "            title=\"Suggest charts\"\n",
              "            style=\"display:none;\">\n",
              "\n",
              "<svg xmlns=\"http://www.w3.org/2000/svg\" height=\"24px\"viewBox=\"0 0 24 24\"\n",
              "     width=\"24px\">\n",
              "    <g>\n",
              "        <path d=\"M19 3H5c-1.1 0-2 .9-2 2v14c0 1.1.9 2 2 2h14c1.1 0 2-.9 2-2V5c0-1.1-.9-2-2-2zM9 17H7v-7h2v7zm4 0h-2V7h2v10zm4 0h-2v-4h2v4z\"/>\n",
              "    </g>\n",
              "</svg>\n",
              "  </button>\n",
              "\n",
              "<style>\n",
              "  .colab-df-quickchart {\n",
              "      --bg-color: #E8F0FE;\n",
              "      --fill-color: #1967D2;\n",
              "      --hover-bg-color: #E2EBFA;\n",
              "      --hover-fill-color: #174EA6;\n",
              "      --disabled-fill-color: #AAA;\n",
              "      --disabled-bg-color: #DDD;\n",
              "  }\n",
              "\n",
              "  [theme=dark] .colab-df-quickchart {\n",
              "      --bg-color: #3B4455;\n",
              "      --fill-color: #D2E3FC;\n",
              "      --hover-bg-color: #434B5C;\n",
              "      --hover-fill-color: #FFFFFF;\n",
              "      --disabled-bg-color: #3B4455;\n",
              "      --disabled-fill-color: #666;\n",
              "  }\n",
              "\n",
              "  .colab-df-quickchart {\n",
              "    background-color: var(--bg-color);\n",
              "    border: none;\n",
              "    border-radius: 50%;\n",
              "    cursor: pointer;\n",
              "    display: none;\n",
              "    fill: var(--fill-color);\n",
              "    height: 32px;\n",
              "    padding: 0;\n",
              "    width: 32px;\n",
              "  }\n",
              "\n",
              "  .colab-df-quickchart:hover {\n",
              "    background-color: var(--hover-bg-color);\n",
              "    box-shadow: 0 1px 2px rgba(60, 64, 67, 0.3), 0 1px 3px 1px rgba(60, 64, 67, 0.15);\n",
              "    fill: var(--button-hover-fill-color);\n",
              "  }\n",
              "\n",
              "  .colab-df-quickchart-complete:disabled,\n",
              "  .colab-df-quickchart-complete:disabled:hover {\n",
              "    background-color: var(--disabled-bg-color);\n",
              "    fill: var(--disabled-fill-color);\n",
              "    box-shadow: none;\n",
              "  }\n",
              "\n",
              "  .colab-df-spinner {\n",
              "    border: 2px solid var(--fill-color);\n",
              "    border-color: transparent;\n",
              "    border-bottom-color: var(--fill-color);\n",
              "    animation:\n",
              "      spin 1s steps(1) infinite;\n",
              "  }\n",
              "\n",
              "  @keyframes spin {\n",
              "    0% {\n",
              "      border-color: transparent;\n",
              "      border-bottom-color: var(--fill-color);\n",
              "      border-left-color: var(--fill-color);\n",
              "    }\n",
              "    20% {\n",
              "      border-color: transparent;\n",
              "      border-left-color: var(--fill-color);\n",
              "      border-top-color: var(--fill-color);\n",
              "    }\n",
              "    30% {\n",
              "      border-color: transparent;\n",
              "      border-left-color: var(--fill-color);\n",
              "      border-top-color: var(--fill-color);\n",
              "      border-right-color: var(--fill-color);\n",
              "    }\n",
              "    40% {\n",
              "      border-color: transparent;\n",
              "      border-right-color: var(--fill-color);\n",
              "      border-top-color: var(--fill-color);\n",
              "    }\n",
              "    60% {\n",
              "      border-color: transparent;\n",
              "      border-right-color: var(--fill-color);\n",
              "    }\n",
              "    80% {\n",
              "      border-color: transparent;\n",
              "      border-right-color: var(--fill-color);\n",
              "      border-bottom-color: var(--fill-color);\n",
              "    }\n",
              "    90% {\n",
              "      border-color: transparent;\n",
              "      border-bottom-color: var(--fill-color);\n",
              "    }\n",
              "  }\n",
              "</style>\n",
              "\n",
              "  <script>\n",
              "    async function quickchart(key) {\n",
              "      const quickchartButtonEl =\n",
              "        document.querySelector('#' + key + ' button');\n",
              "      quickchartButtonEl.disabled = true;  // To prevent multiple clicks.\n",
              "      quickchartButtonEl.classList.add('colab-df-spinner');\n",
              "      try {\n",
              "        const charts = await google.colab.kernel.invokeFunction(\n",
              "            'suggestCharts', [key], {});\n",
              "      } catch (error) {\n",
              "        console.error('Error during call to suggestCharts:', error);\n",
              "      }\n",
              "      quickchartButtonEl.classList.remove('colab-df-spinner');\n",
              "      quickchartButtonEl.classList.add('colab-df-quickchart-complete');\n",
              "    }\n",
              "    (() => {\n",
              "      let quickchartButtonEl =\n",
              "        document.querySelector('#df-27ce4314-6fe2-4bcd-b07c-b616d4f1233f button');\n",
              "      quickchartButtonEl.style.display =\n",
              "        google.colab.kernel.accessAllowed ? 'block' : 'none';\n",
              "    })();\n",
              "  </script>\n",
              "</div>\n",
              "\n",
              "    </div>\n",
              "  </div>\n"
            ],
            "application/vnd.google.colaboratory.intrinsic+json": {
              "type": "dataframe",
              "repr_error": "'str' object has no attribute 'empty'"
            }
          },
          "metadata": {},
          "execution_count": 24
        }
      ]
    },
    {
      "cell_type": "code",
      "source": [
        "#Score is an object type, we need to change it to numeric - first to float because one value is to large to convert to C long\n",
        "melted_df_all['Score'] = melted_df_all['Score'].astype(float)"
      ],
      "metadata": {
        "id": "bmmeWqeYcphB"
      },
      "execution_count": 25,
      "outputs": []
    },
    {
      "cell_type": "code",
      "source": [
        "#Another problem is we have an much too large number for score\n",
        "print(melted_df_all['Score'].max())\n",
        "\n",
        "max_value = melted_df_all['Score'].max()"
      ],
      "metadata": {
        "colab": {
          "base_uri": "https://localhost:8080/"
        },
        "id": "OjUyvvczdOUI",
        "outputId": "b53000a2-f104-4137-cad3-ab2c514c5ebd"
      },
      "execution_count": 26,
      "outputs": [
        {
          "output_type": "stream",
          "name": "stdout",
          "text": [
            "8.392938473802937e+27\n"
          ]
        }
      ]
    },
    {
      "cell_type": "code",
      "source": [
        "#Dropping largest value\n",
        "indices_to_drop = melted_df_all[melted_df_all['Score'] == max_value].index\n",
        "\n",
        "#Drop these row(s) from the DataFrame\n",
        "melted_df_all = melted_df_all.drop(indices_to_drop)\n",
        "\n",
        "#Converting to int\n",
        "melted_df_all['Score'] = melted_df_all['Score'].astype(int)"
      ],
      "metadata": {
        "id": "Q-AWJsmtdWne"
      },
      "execution_count": 27,
      "outputs": []
    },
    {
      "cell_type": "markdown",
      "source": [
        "####Model"
      ],
      "metadata": {
        "id": "wJPmMoEW5QI5"
      }
    },
    {
      "cell_type": "code",
      "source": [
        "#Creating the regression\n",
        "\n",
        "#Regressing the estimage on experiment arm with question(which image they saw)\n",
        "#as a fixed effect\n",
        "formula = 'Score ~ 1 + group| Question'\n",
        "\n",
        "#Adding clustered standard errors to account for the fact that each IPAddress\n",
        "#made 6 estimates\n",
        "model = feols(formula, data=melted_df_all, vcov={'CRV1':'IPAddress'})\n",
        "etable(model)"
      ],
      "metadata": {
        "colab": {
          "base_uri": "https://localhost:8080/"
        },
        "id": "caKfgQXOdoFi",
        "outputId": "c19affdb-280f-4f52-b7bd-b9e565adbcda"
      },
      "execution_count": 39,
      "outputs": [
        {
          "output_type": "stream",
          "name": "stdout",
          "text": [
            "                                   est1\n",
            "--------------------  -----------------\n",
            "depvar                            Score\n",
            "---------------------------------------\n",
            "group[T.treatment 1]     9.254 (50.478)\n",
            "group[T.treatment 2]  -57.508* (27.499)\n",
            "---------------------------------------\n",
            "Question                              x\n",
            "---------------------------------------\n",
            "R2                                0.179\n",
            "S.E. type                 by: IPAddress\n",
            "Observations                       1151\n",
            "---------------------------------------\n",
            "Significance levels: * p < 0.05, ** p < 0.01, *** p < 0.001\n",
            "Format of coefficient cell:\n",
            "Coefficient (Std. Error)\n"
          ]
        }
      ]
    },
    {
      "cell_type": "markdown",
      "source": [
        "###Regression 2: Only participants who passed the attentio check (`passed_check == True`)"
      ],
      "metadata": {
        "id": "r9J0dgsmbZf8"
      }
    },
    {
      "cell_type": "markdown",
      "source": [
        "#### Data Prep"
      ],
      "metadata": {
        "id": "G7wEq1FZ5b-X"
      }
    },
    {
      "cell_type": "code",
      "source": [
        "#Create new DataFrame\n",
        "df_passed_check = survey_df.copy(deep=True)"
      ],
      "metadata": {
        "id": "7rJihop7blvN"
      },
      "execution_count": 73,
      "outputs": []
    },
    {
      "cell_type": "code",
      "source": [
        "#Keep only the records of people that passed our attention check\n",
        "df_passed_check = df_passed_check[df_passed_check['passed_check']==True]"
      ],
      "metadata": {
        "id": "V49Qa70QeujN"
      },
      "execution_count": 74,
      "outputs": []
    },
    {
      "cell_type": "code",
      "source": [
        "#Given that one IPAdress can make multiple estimates we first need to melt the df\n",
        "melted_df_passed = df_passed_check.melt(id_vars=['IPAddress', 'Gender', 'Age', 'group'],\n",
        "                           value_vars=['Q1', 'Q2', 'Q3', 'Q4', 'Q5', 'Q6'],\n",
        "                           var_name='Question',\n",
        "                           value_name='Score')\n",
        "\n",
        "melted_df_passed.sort_values(by='IPAddress').head(2)"
      ],
      "metadata": {
        "colab": {
          "base_uri": "https://localhost:8080/",
          "height": 112
        },
        "id": "raDQ_vhYfRN6",
        "outputId": "0a2caa75-ea3d-49fc-d7ff-f4126b958be8"
      },
      "execution_count": 75,
      "outputs": [
        {
          "output_type": "execute_result",
          "data": {
            "text/plain": [
              "          IPAddress Gender   Age    group Question  Score\n",
              "229  103.49.252.230   Male  23.0  control       Q2  146.0\n",
              "925  103.49.252.230   Male  23.0  control       Q6    176"
            ],
            "text/html": [
              "\n",
              "  <div id=\"df-a1bfd325-5e0e-40d6-b465-117b3679e8f4\" class=\"colab-df-container\">\n",
              "    <div>\n",
              "<style scoped>\n",
              "    .dataframe tbody tr th:only-of-type {\n",
              "        vertical-align: middle;\n",
              "    }\n",
              "\n",
              "    .dataframe tbody tr th {\n",
              "        vertical-align: top;\n",
              "    }\n",
              "\n",
              "    .dataframe thead th {\n",
              "        text-align: right;\n",
              "    }\n",
              "</style>\n",
              "<table border=\"1\" class=\"dataframe\">\n",
              "  <thead>\n",
              "    <tr style=\"text-align: right;\">\n",
              "      <th></th>\n",
              "      <th>IPAddress</th>\n",
              "      <th>Gender</th>\n",
              "      <th>Age</th>\n",
              "      <th>group</th>\n",
              "      <th>Question</th>\n",
              "      <th>Score</th>\n",
              "    </tr>\n",
              "  </thead>\n",
              "  <tbody>\n",
              "    <tr>\n",
              "      <th>229</th>\n",
              "      <td>103.49.252.230</td>\n",
              "      <td>Male</td>\n",
              "      <td>23.0</td>\n",
              "      <td>control</td>\n",
              "      <td>Q2</td>\n",
              "      <td>146.0</td>\n",
              "    </tr>\n",
              "    <tr>\n",
              "      <th>925</th>\n",
              "      <td>103.49.252.230</td>\n",
              "      <td>Male</td>\n",
              "      <td>23.0</td>\n",
              "      <td>control</td>\n",
              "      <td>Q6</td>\n",
              "      <td>176</td>\n",
              "    </tr>\n",
              "  </tbody>\n",
              "</table>\n",
              "</div>\n",
              "    <div class=\"colab-df-buttons\">\n",
              "\n",
              "  <div class=\"colab-df-container\">\n",
              "    <button class=\"colab-df-convert\" onclick=\"convertToInteractive('df-a1bfd325-5e0e-40d6-b465-117b3679e8f4')\"\n",
              "            title=\"Convert this dataframe to an interactive table.\"\n",
              "            style=\"display:none;\">\n",
              "\n",
              "  <svg xmlns=\"http://www.w3.org/2000/svg\" height=\"24px\" viewBox=\"0 -960 960 960\">\n",
              "    <path d=\"M120-120v-720h720v720H120Zm60-500h600v-160H180v160Zm220 220h160v-160H400v160Zm0 220h160v-160H400v160ZM180-400h160v-160H180v160Zm440 0h160v-160H620v160ZM180-180h160v-160H180v160Zm440 0h160v-160H620v160Z\"/>\n",
              "  </svg>\n",
              "    </button>\n",
              "\n",
              "  <style>\n",
              "    .colab-df-container {\n",
              "      display:flex;\n",
              "      gap: 12px;\n",
              "    }\n",
              "\n",
              "    .colab-df-convert {\n",
              "      background-color: #E8F0FE;\n",
              "      border: none;\n",
              "      border-radius: 50%;\n",
              "      cursor: pointer;\n",
              "      display: none;\n",
              "      fill: #1967D2;\n",
              "      height: 32px;\n",
              "      padding: 0 0 0 0;\n",
              "      width: 32px;\n",
              "    }\n",
              "\n",
              "    .colab-df-convert:hover {\n",
              "      background-color: #E2EBFA;\n",
              "      box-shadow: 0px 1px 2px rgba(60, 64, 67, 0.3), 0px 1px 3px 1px rgba(60, 64, 67, 0.15);\n",
              "      fill: #174EA6;\n",
              "    }\n",
              "\n",
              "    .colab-df-buttons div {\n",
              "      margin-bottom: 4px;\n",
              "    }\n",
              "\n",
              "    [theme=dark] .colab-df-convert {\n",
              "      background-color: #3B4455;\n",
              "      fill: #D2E3FC;\n",
              "    }\n",
              "\n",
              "    [theme=dark] .colab-df-convert:hover {\n",
              "      background-color: #434B5C;\n",
              "      box-shadow: 0px 1px 3px 1px rgba(0, 0, 0, 0.15);\n",
              "      filter: drop-shadow(0px 1px 2px rgba(0, 0, 0, 0.3));\n",
              "      fill: #FFFFFF;\n",
              "    }\n",
              "  </style>\n",
              "\n",
              "    <script>\n",
              "      const buttonEl =\n",
              "        document.querySelector('#df-a1bfd325-5e0e-40d6-b465-117b3679e8f4 button.colab-df-convert');\n",
              "      buttonEl.style.display =\n",
              "        google.colab.kernel.accessAllowed ? 'block' : 'none';\n",
              "\n",
              "      async function convertToInteractive(key) {\n",
              "        const element = document.querySelector('#df-a1bfd325-5e0e-40d6-b465-117b3679e8f4');\n",
              "        const dataTable =\n",
              "          await google.colab.kernel.invokeFunction('convertToInteractive',\n",
              "                                                    [key], {});\n",
              "        if (!dataTable) return;\n",
              "\n",
              "        const docLinkHtml = 'Like what you see? Visit the ' +\n",
              "          '<a target=\"_blank\" href=https://colab.research.google.com/notebooks/data_table.ipynb>data table notebook</a>'\n",
              "          + ' to learn more about interactive tables.';\n",
              "        element.innerHTML = '';\n",
              "        dataTable['output_type'] = 'display_data';\n",
              "        await google.colab.output.renderOutput(dataTable, element);\n",
              "        const docLink = document.createElement('div');\n",
              "        docLink.innerHTML = docLinkHtml;\n",
              "        element.appendChild(docLink);\n",
              "      }\n",
              "    </script>\n",
              "  </div>\n",
              "\n",
              "\n",
              "<div id=\"df-38d5f09b-5f9b-4225-b187-589c7c0b24c4\">\n",
              "  <button class=\"colab-df-quickchart\" onclick=\"quickchart('df-38d5f09b-5f9b-4225-b187-589c7c0b24c4')\"\n",
              "            title=\"Suggest charts\"\n",
              "            style=\"display:none;\">\n",
              "\n",
              "<svg xmlns=\"http://www.w3.org/2000/svg\" height=\"24px\"viewBox=\"0 0 24 24\"\n",
              "     width=\"24px\">\n",
              "    <g>\n",
              "        <path d=\"M19 3H5c-1.1 0-2 .9-2 2v14c0 1.1.9 2 2 2h14c1.1 0 2-.9 2-2V5c0-1.1-.9-2-2-2zM9 17H7v-7h2v7zm4 0h-2V7h2v10zm4 0h-2v-4h2v4z\"/>\n",
              "    </g>\n",
              "</svg>\n",
              "  </button>\n",
              "\n",
              "<style>\n",
              "  .colab-df-quickchart {\n",
              "      --bg-color: #E8F0FE;\n",
              "      --fill-color: #1967D2;\n",
              "      --hover-bg-color: #E2EBFA;\n",
              "      --hover-fill-color: #174EA6;\n",
              "      --disabled-fill-color: #AAA;\n",
              "      --disabled-bg-color: #DDD;\n",
              "  }\n",
              "\n",
              "  [theme=dark] .colab-df-quickchart {\n",
              "      --bg-color: #3B4455;\n",
              "      --fill-color: #D2E3FC;\n",
              "      --hover-bg-color: #434B5C;\n",
              "      --hover-fill-color: #FFFFFF;\n",
              "      --disabled-bg-color: #3B4455;\n",
              "      --disabled-fill-color: #666;\n",
              "  }\n",
              "\n",
              "  .colab-df-quickchart {\n",
              "    background-color: var(--bg-color);\n",
              "    border: none;\n",
              "    border-radius: 50%;\n",
              "    cursor: pointer;\n",
              "    display: none;\n",
              "    fill: var(--fill-color);\n",
              "    height: 32px;\n",
              "    padding: 0;\n",
              "    width: 32px;\n",
              "  }\n",
              "\n",
              "  .colab-df-quickchart:hover {\n",
              "    background-color: var(--hover-bg-color);\n",
              "    box-shadow: 0 1px 2px rgba(60, 64, 67, 0.3), 0 1px 3px 1px rgba(60, 64, 67, 0.15);\n",
              "    fill: var(--button-hover-fill-color);\n",
              "  }\n",
              "\n",
              "  .colab-df-quickchart-complete:disabled,\n",
              "  .colab-df-quickchart-complete:disabled:hover {\n",
              "    background-color: var(--disabled-bg-color);\n",
              "    fill: var(--disabled-fill-color);\n",
              "    box-shadow: none;\n",
              "  }\n",
              "\n",
              "  .colab-df-spinner {\n",
              "    border: 2px solid var(--fill-color);\n",
              "    border-color: transparent;\n",
              "    border-bottom-color: var(--fill-color);\n",
              "    animation:\n",
              "      spin 1s steps(1) infinite;\n",
              "  }\n",
              "\n",
              "  @keyframes spin {\n",
              "    0% {\n",
              "      border-color: transparent;\n",
              "      border-bottom-color: var(--fill-color);\n",
              "      border-left-color: var(--fill-color);\n",
              "    }\n",
              "    20% {\n",
              "      border-color: transparent;\n",
              "      border-left-color: var(--fill-color);\n",
              "      border-top-color: var(--fill-color);\n",
              "    }\n",
              "    30% {\n",
              "      border-color: transparent;\n",
              "      border-left-color: var(--fill-color);\n",
              "      border-top-color: var(--fill-color);\n",
              "      border-right-color: var(--fill-color);\n",
              "    }\n",
              "    40% {\n",
              "      border-color: transparent;\n",
              "      border-right-color: var(--fill-color);\n",
              "      border-top-color: var(--fill-color);\n",
              "    }\n",
              "    60% {\n",
              "      border-color: transparent;\n",
              "      border-right-color: var(--fill-color);\n",
              "    }\n",
              "    80% {\n",
              "      border-color: transparent;\n",
              "      border-right-color: var(--fill-color);\n",
              "      border-bottom-color: var(--fill-color);\n",
              "    }\n",
              "    90% {\n",
              "      border-color: transparent;\n",
              "      border-bottom-color: var(--fill-color);\n",
              "    }\n",
              "  }\n",
              "</style>\n",
              "\n",
              "  <script>\n",
              "    async function quickchart(key) {\n",
              "      const quickchartButtonEl =\n",
              "        document.querySelector('#' + key + ' button');\n",
              "      quickchartButtonEl.disabled = true;  // To prevent multiple clicks.\n",
              "      quickchartButtonEl.classList.add('colab-df-spinner');\n",
              "      try {\n",
              "        const charts = await google.colab.kernel.invokeFunction(\n",
              "            'suggestCharts', [key], {});\n",
              "      } catch (error) {\n",
              "        console.error('Error during call to suggestCharts:', error);\n",
              "      }\n",
              "      quickchartButtonEl.classList.remove('colab-df-spinner');\n",
              "      quickchartButtonEl.classList.add('colab-df-quickchart-complete');\n",
              "    }\n",
              "    (() => {\n",
              "      let quickchartButtonEl =\n",
              "        document.querySelector('#df-38d5f09b-5f9b-4225-b187-589c7c0b24c4 button');\n",
              "      quickchartButtonEl.style.display =\n",
              "        google.colab.kernel.accessAllowed ? 'block' : 'none';\n",
              "    })();\n",
              "  </script>\n",
              "</div>\n",
              "\n",
              "    </div>\n",
              "  </div>\n"
            ],
            "application/vnd.google.colaboratory.intrinsic+json": {
              "type": "dataframe",
              "summary": "{\n  \"name\": \"melted_df_passed\",\n  \"rows\": 2,\n  \"fields\": [\n    {\n      \"column\": \"IPAddress\",\n      \"properties\": {\n        \"dtype\": \"string\",\n        \"num_unique_values\": 1,\n        \"samples\": [\n          \"103.49.252.230\"\n        ],\n        \"semantic_type\": \"\",\n        \"description\": \"\"\n      }\n    },\n    {\n      \"column\": \"Gender\",\n      \"properties\": {\n        \"dtype\": \"string\",\n        \"num_unique_values\": 1,\n        \"samples\": [\n          \"Male\"\n        ],\n        \"semantic_type\": \"\",\n        \"description\": \"\"\n      }\n    },\n    {\n      \"column\": \"Age\",\n      \"properties\": {\n        \"dtype\": \"number\",\n        \"std\": 0.0,\n        \"min\": 23.0,\n        \"max\": 23.0,\n        \"num_unique_values\": 1,\n        \"samples\": [\n          23.0\n        ],\n        \"semantic_type\": \"\",\n        \"description\": \"\"\n      }\n    },\n    {\n      \"column\": \"group\",\n      \"properties\": {\n        \"dtype\": \"string\",\n        \"num_unique_values\": 1,\n        \"samples\": [\n          \"control\"\n        ],\n        \"semantic_type\": \"\",\n        \"description\": \"\"\n      }\n    },\n    {\n      \"column\": \"Question\",\n      \"properties\": {\n        \"dtype\": \"string\",\n        \"num_unique_values\": 2,\n        \"samples\": [\n          \"Q6\"\n        ],\n        \"semantic_type\": \"\",\n        \"description\": \"\"\n      }\n    },\n    {\n      \"column\": \"Score\",\n      \"properties\": {\n        \"dtype\": \"string\",\n        \"num_unique_values\": 2,\n        \"samples\": [\n          \"176\"\n        ],\n        \"semantic_type\": \"\",\n        \"description\": \"\"\n      }\n    }\n  ]\n}"
            }
          },
          "metadata": {},
          "execution_count": 75
        }
      ]
    },
    {
      "cell_type": "code",
      "source": [
        "#Score is an object type, we need to change it to numeric - first to float because one value is to large to convert to C long\n",
        "melted_df_passed['Score'] = melted_df_passed['Score'].astype(float)"
      ],
      "metadata": {
        "id": "s0okiUeOfnmu"
      },
      "execution_count": 76,
      "outputs": []
    },
    {
      "cell_type": "code",
      "source": [
        "#Another problem is we have an much too large number for score\n",
        "print(melted_df_passed['Score'].max())\n",
        "\n",
        "max_value = melted_df_passed['Score'].max()"
      ],
      "metadata": {
        "colab": {
          "base_uri": "https://localhost:8080/"
        },
        "id": "x7ago8EofrLl",
        "outputId": "695088cb-6ec6-4a5d-f743-a3f59b431cad"
      },
      "execution_count": 77,
      "outputs": [
        {
          "output_type": "stream",
          "name": "stdout",
          "text": [
            "8.392938473802937e+27\n"
          ]
        }
      ]
    },
    {
      "cell_type": "code",
      "source": [
        "#Dropping largest value\n",
        "indices_to_drop = melted_df_passed[melted_df_passed['Score'] == max_value].index\n",
        "\n",
        "#Drop these row(s) from the DataFrame\n",
        "melted_df_passed = melted_df_passed.drop(indices_to_drop)\n",
        "\n",
        "#Converting to int\n",
        "melted_df_passed['Score'] = melted_df_passed['Score'].astype(int)"
      ],
      "metadata": {
        "id": "pHdNIZnBfwmG"
      },
      "execution_count": 78,
      "outputs": []
    },
    {
      "cell_type": "markdown",
      "source": [
        "#### Model"
      ],
      "metadata": {
        "id": "8QOvCw--5eu3"
      }
    },
    {
      "cell_type": "code",
      "source": [
        "#Creating the regression\n",
        "\n",
        "#Regressing the estimage on experiment arm with question(which image they saw)\n",
        "#as a fixed effect\n",
        "formula = 'Score ~ group| Question'\n",
        "\n",
        "#Adding clustered standard errors to account for the fact that each IPAddress\n",
        "#made 6 estimates\n",
        "model = feols(formula, data=melted_df_passed, vcov={'CRV1':'IPAddress'})\n",
        "etable(model)"
      ],
      "metadata": {
        "colab": {
          "base_uri": "https://localhost:8080/"
        },
        "id": "bZzukeTzf0xl",
        "outputId": "52fabc25-3e87-43cd-b965-26f186c3b44b"
      },
      "execution_count": 79,
      "outputs": [
        {
          "output_type": "stream",
          "name": "stdout",
          "text": [
            "                                  est1\n",
            "--------------------  ----------------\n",
            "depvar                           Score\n",
            "--------------------------------------\n",
            "group[T.treatment 1]   36.728 (55.585)\n",
            "group[T.treatment 2]  -48.424 (28.351)\n",
            "--------------------------------------\n",
            "Question                             x\n",
            "--------------------------------------\n",
            "R2                               0.170\n",
            "S.E. type                by: IPAddress\n",
            "Observations                      1043\n",
            "--------------------------------------\n",
            "Significance levels: * p < 0.05, ** p < 0.01, *** p < 0.001\n",
            "Format of coefficient cell:\n",
            "Coefficient (Std. Error)\n"
          ]
        }
      ]
    },
    {
      "cell_type": "markdown",
      "source": [
        "###Regression 3: Treatment 1 vs Treatment 2"
      ],
      "metadata": {
        "id": "vYzIsIqzmydP"
      }
    },
    {
      "cell_type": "markdown",
      "source": [
        "#### Data Prep"
      ],
      "metadata": {
        "id": "4r5oVvB05i2p"
      }
    },
    {
      "cell_type": "code",
      "source": [
        "melted_df_passed_only_treatment = melted_df_passed\\\n",
        " [(melted_df_passed['group']=='treatment 1') |(melted_df_passed['group']=='treatment 2')]"
      ],
      "metadata": {
        "id": "J74mwS3jmxmX"
      },
      "execution_count": 83,
      "outputs": []
    },
    {
      "cell_type": "code",
      "source": [
        "melted_df_passed_only_treatment"
      ],
      "metadata": {
        "colab": {
          "base_uri": "https://localhost:8080/",
          "height": 423
        },
        "id": "nLscrCCfv5Hm",
        "outputId": "8c721db9-a169-4422-ce32-5d885be641d0"
      },
      "execution_count": 84,
      "outputs": [
        {
          "output_type": "execute_result",
          "data": {
            "text/plain": [
              "            IPAddress  Gender   Age        group Question  Score\n",
              "0        77.164.41.88  Female  22.0  treatment 1       Q1     11\n",
              "1     172.225.170.111    Male  30.0  treatment 2       Q1     20\n",
              "2      190.111.246.27  Female  26.0  treatment 2       Q1     10\n",
              "5     189.204.251.139  Female  30.0  treatment 2       Q1     12\n",
              "6      200.173.53.123    Male  26.0  treatment 1       Q1     11\n",
              "...               ...     ...   ...          ...      ...    ...\n",
              "1029    191.13.222.67  Female  24.0  treatment 1       Q6     40\n",
              "1031     176.79.82.16    Male  38.0  treatment 1       Q6    150\n",
              "1037   187.21.174.215    Male  50.0  treatment 1       Q6    118\n",
              "1039     66.38.95.243  Female  22.0  treatment 1       Q6     70\n",
              "1040  187.181.204.234  Female  51.0  treatment 1       Q6     70\n",
              "\n",
              "[654 rows x 6 columns]"
            ],
            "text/html": [
              "\n",
              "  <div id=\"df-c3959c5e-02e1-4d80-92b7-96488dbabf43\" class=\"colab-df-container\">\n",
              "    <div>\n",
              "<style scoped>\n",
              "    .dataframe tbody tr th:only-of-type {\n",
              "        vertical-align: middle;\n",
              "    }\n",
              "\n",
              "    .dataframe tbody tr th {\n",
              "        vertical-align: top;\n",
              "    }\n",
              "\n",
              "    .dataframe thead th {\n",
              "        text-align: right;\n",
              "    }\n",
              "</style>\n",
              "<table border=\"1\" class=\"dataframe\">\n",
              "  <thead>\n",
              "    <tr style=\"text-align: right;\">\n",
              "      <th></th>\n",
              "      <th>IPAddress</th>\n",
              "      <th>Gender</th>\n",
              "      <th>Age</th>\n",
              "      <th>group</th>\n",
              "      <th>Question</th>\n",
              "      <th>Score</th>\n",
              "    </tr>\n",
              "  </thead>\n",
              "  <tbody>\n",
              "    <tr>\n",
              "      <th>0</th>\n",
              "      <td>77.164.41.88</td>\n",
              "      <td>Female</td>\n",
              "      <td>22.0</td>\n",
              "      <td>treatment 1</td>\n",
              "      <td>Q1</td>\n",
              "      <td>11</td>\n",
              "    </tr>\n",
              "    <tr>\n",
              "      <th>1</th>\n",
              "      <td>172.225.170.111</td>\n",
              "      <td>Male</td>\n",
              "      <td>30.0</td>\n",
              "      <td>treatment 2</td>\n",
              "      <td>Q1</td>\n",
              "      <td>20</td>\n",
              "    </tr>\n",
              "    <tr>\n",
              "      <th>2</th>\n",
              "      <td>190.111.246.27</td>\n",
              "      <td>Female</td>\n",
              "      <td>26.0</td>\n",
              "      <td>treatment 2</td>\n",
              "      <td>Q1</td>\n",
              "      <td>10</td>\n",
              "    </tr>\n",
              "    <tr>\n",
              "      <th>5</th>\n",
              "      <td>189.204.251.139</td>\n",
              "      <td>Female</td>\n",
              "      <td>30.0</td>\n",
              "      <td>treatment 2</td>\n",
              "      <td>Q1</td>\n",
              "      <td>12</td>\n",
              "    </tr>\n",
              "    <tr>\n",
              "      <th>6</th>\n",
              "      <td>200.173.53.123</td>\n",
              "      <td>Male</td>\n",
              "      <td>26.0</td>\n",
              "      <td>treatment 1</td>\n",
              "      <td>Q1</td>\n",
              "      <td>11</td>\n",
              "    </tr>\n",
              "    <tr>\n",
              "      <th>...</th>\n",
              "      <td>...</td>\n",
              "      <td>...</td>\n",
              "      <td>...</td>\n",
              "      <td>...</td>\n",
              "      <td>...</td>\n",
              "      <td>...</td>\n",
              "    </tr>\n",
              "    <tr>\n",
              "      <th>1029</th>\n",
              "      <td>191.13.222.67</td>\n",
              "      <td>Female</td>\n",
              "      <td>24.0</td>\n",
              "      <td>treatment 1</td>\n",
              "      <td>Q6</td>\n",
              "      <td>40</td>\n",
              "    </tr>\n",
              "    <tr>\n",
              "      <th>1031</th>\n",
              "      <td>176.79.82.16</td>\n",
              "      <td>Male</td>\n",
              "      <td>38.0</td>\n",
              "      <td>treatment 1</td>\n",
              "      <td>Q6</td>\n",
              "      <td>150</td>\n",
              "    </tr>\n",
              "    <tr>\n",
              "      <th>1037</th>\n",
              "      <td>187.21.174.215</td>\n",
              "      <td>Male</td>\n",
              "      <td>50.0</td>\n",
              "      <td>treatment 1</td>\n",
              "      <td>Q6</td>\n",
              "      <td>118</td>\n",
              "    </tr>\n",
              "    <tr>\n",
              "      <th>1039</th>\n",
              "      <td>66.38.95.243</td>\n",
              "      <td>Female</td>\n",
              "      <td>22.0</td>\n",
              "      <td>treatment 1</td>\n",
              "      <td>Q6</td>\n",
              "      <td>70</td>\n",
              "    </tr>\n",
              "    <tr>\n",
              "      <th>1040</th>\n",
              "      <td>187.181.204.234</td>\n",
              "      <td>Female</td>\n",
              "      <td>51.0</td>\n",
              "      <td>treatment 1</td>\n",
              "      <td>Q6</td>\n",
              "      <td>70</td>\n",
              "    </tr>\n",
              "  </tbody>\n",
              "</table>\n",
              "<p>654 rows × 6 columns</p>\n",
              "</div>\n",
              "    <div class=\"colab-df-buttons\">\n",
              "\n",
              "  <div class=\"colab-df-container\">\n",
              "    <button class=\"colab-df-convert\" onclick=\"convertToInteractive('df-c3959c5e-02e1-4d80-92b7-96488dbabf43')\"\n",
              "            title=\"Convert this dataframe to an interactive table.\"\n",
              "            style=\"display:none;\">\n",
              "\n",
              "  <svg xmlns=\"http://www.w3.org/2000/svg\" height=\"24px\" viewBox=\"0 -960 960 960\">\n",
              "    <path d=\"M120-120v-720h720v720H120Zm60-500h600v-160H180v160Zm220 220h160v-160H400v160Zm0 220h160v-160H400v160ZM180-400h160v-160H180v160Zm440 0h160v-160H620v160ZM180-180h160v-160H180v160Zm440 0h160v-160H620v160Z\"/>\n",
              "  </svg>\n",
              "    </button>\n",
              "\n",
              "  <style>\n",
              "    .colab-df-container {\n",
              "      display:flex;\n",
              "      gap: 12px;\n",
              "    }\n",
              "\n",
              "    .colab-df-convert {\n",
              "      background-color: #E8F0FE;\n",
              "      border: none;\n",
              "      border-radius: 50%;\n",
              "      cursor: pointer;\n",
              "      display: none;\n",
              "      fill: #1967D2;\n",
              "      height: 32px;\n",
              "      padding: 0 0 0 0;\n",
              "      width: 32px;\n",
              "    }\n",
              "\n",
              "    .colab-df-convert:hover {\n",
              "      background-color: #E2EBFA;\n",
              "      box-shadow: 0px 1px 2px rgba(60, 64, 67, 0.3), 0px 1px 3px 1px rgba(60, 64, 67, 0.15);\n",
              "      fill: #174EA6;\n",
              "    }\n",
              "\n",
              "    .colab-df-buttons div {\n",
              "      margin-bottom: 4px;\n",
              "    }\n",
              "\n",
              "    [theme=dark] .colab-df-convert {\n",
              "      background-color: #3B4455;\n",
              "      fill: #D2E3FC;\n",
              "    }\n",
              "\n",
              "    [theme=dark] .colab-df-convert:hover {\n",
              "      background-color: #434B5C;\n",
              "      box-shadow: 0px 1px 3px 1px rgba(0, 0, 0, 0.15);\n",
              "      filter: drop-shadow(0px 1px 2px rgba(0, 0, 0, 0.3));\n",
              "      fill: #FFFFFF;\n",
              "    }\n",
              "  </style>\n",
              "\n",
              "    <script>\n",
              "      const buttonEl =\n",
              "        document.querySelector('#df-c3959c5e-02e1-4d80-92b7-96488dbabf43 button.colab-df-convert');\n",
              "      buttonEl.style.display =\n",
              "        google.colab.kernel.accessAllowed ? 'block' : 'none';\n",
              "\n",
              "      async function convertToInteractive(key) {\n",
              "        const element = document.querySelector('#df-c3959c5e-02e1-4d80-92b7-96488dbabf43');\n",
              "        const dataTable =\n",
              "          await google.colab.kernel.invokeFunction('convertToInteractive',\n",
              "                                                    [key], {});\n",
              "        if (!dataTable) return;\n",
              "\n",
              "        const docLinkHtml = 'Like what you see? Visit the ' +\n",
              "          '<a target=\"_blank\" href=https://colab.research.google.com/notebooks/data_table.ipynb>data table notebook</a>'\n",
              "          + ' to learn more about interactive tables.';\n",
              "        element.innerHTML = '';\n",
              "        dataTable['output_type'] = 'display_data';\n",
              "        await google.colab.output.renderOutput(dataTable, element);\n",
              "        const docLink = document.createElement('div');\n",
              "        docLink.innerHTML = docLinkHtml;\n",
              "        element.appendChild(docLink);\n",
              "      }\n",
              "    </script>\n",
              "  </div>\n",
              "\n",
              "\n",
              "<div id=\"df-203b108e-91b3-444d-9b85-beb49dd751c2\">\n",
              "  <button class=\"colab-df-quickchart\" onclick=\"quickchart('df-203b108e-91b3-444d-9b85-beb49dd751c2')\"\n",
              "            title=\"Suggest charts\"\n",
              "            style=\"display:none;\">\n",
              "\n",
              "<svg xmlns=\"http://www.w3.org/2000/svg\" height=\"24px\"viewBox=\"0 0 24 24\"\n",
              "     width=\"24px\">\n",
              "    <g>\n",
              "        <path d=\"M19 3H5c-1.1 0-2 .9-2 2v14c0 1.1.9 2 2 2h14c1.1 0 2-.9 2-2V5c0-1.1-.9-2-2-2zM9 17H7v-7h2v7zm4 0h-2V7h2v10zm4 0h-2v-4h2v4z\"/>\n",
              "    </g>\n",
              "</svg>\n",
              "  </button>\n",
              "\n",
              "<style>\n",
              "  .colab-df-quickchart {\n",
              "      --bg-color: #E8F0FE;\n",
              "      --fill-color: #1967D2;\n",
              "      --hover-bg-color: #E2EBFA;\n",
              "      --hover-fill-color: #174EA6;\n",
              "      --disabled-fill-color: #AAA;\n",
              "      --disabled-bg-color: #DDD;\n",
              "  }\n",
              "\n",
              "  [theme=dark] .colab-df-quickchart {\n",
              "      --bg-color: #3B4455;\n",
              "      --fill-color: #D2E3FC;\n",
              "      --hover-bg-color: #434B5C;\n",
              "      --hover-fill-color: #FFFFFF;\n",
              "      --disabled-bg-color: #3B4455;\n",
              "      --disabled-fill-color: #666;\n",
              "  }\n",
              "\n",
              "  .colab-df-quickchart {\n",
              "    background-color: var(--bg-color);\n",
              "    border: none;\n",
              "    border-radius: 50%;\n",
              "    cursor: pointer;\n",
              "    display: none;\n",
              "    fill: var(--fill-color);\n",
              "    height: 32px;\n",
              "    padding: 0;\n",
              "    width: 32px;\n",
              "  }\n",
              "\n",
              "  .colab-df-quickchart:hover {\n",
              "    background-color: var(--hover-bg-color);\n",
              "    box-shadow: 0 1px 2px rgba(60, 64, 67, 0.3), 0 1px 3px 1px rgba(60, 64, 67, 0.15);\n",
              "    fill: var(--button-hover-fill-color);\n",
              "  }\n",
              "\n",
              "  .colab-df-quickchart-complete:disabled,\n",
              "  .colab-df-quickchart-complete:disabled:hover {\n",
              "    background-color: var(--disabled-bg-color);\n",
              "    fill: var(--disabled-fill-color);\n",
              "    box-shadow: none;\n",
              "  }\n",
              "\n",
              "  .colab-df-spinner {\n",
              "    border: 2px solid var(--fill-color);\n",
              "    border-color: transparent;\n",
              "    border-bottom-color: var(--fill-color);\n",
              "    animation:\n",
              "      spin 1s steps(1) infinite;\n",
              "  }\n",
              "\n",
              "  @keyframes spin {\n",
              "    0% {\n",
              "      border-color: transparent;\n",
              "      border-bottom-color: var(--fill-color);\n",
              "      border-left-color: var(--fill-color);\n",
              "    }\n",
              "    20% {\n",
              "      border-color: transparent;\n",
              "      border-left-color: var(--fill-color);\n",
              "      border-top-color: var(--fill-color);\n",
              "    }\n",
              "    30% {\n",
              "      border-color: transparent;\n",
              "      border-left-color: var(--fill-color);\n",
              "      border-top-color: var(--fill-color);\n",
              "      border-right-color: var(--fill-color);\n",
              "    }\n",
              "    40% {\n",
              "      border-color: transparent;\n",
              "      border-right-color: var(--fill-color);\n",
              "      border-top-color: var(--fill-color);\n",
              "    }\n",
              "    60% {\n",
              "      border-color: transparent;\n",
              "      border-right-color: var(--fill-color);\n",
              "    }\n",
              "    80% {\n",
              "      border-color: transparent;\n",
              "      border-right-color: var(--fill-color);\n",
              "      border-bottom-color: var(--fill-color);\n",
              "    }\n",
              "    90% {\n",
              "      border-color: transparent;\n",
              "      border-bottom-color: var(--fill-color);\n",
              "    }\n",
              "  }\n",
              "</style>\n",
              "\n",
              "  <script>\n",
              "    async function quickchart(key) {\n",
              "      const quickchartButtonEl =\n",
              "        document.querySelector('#' + key + ' button');\n",
              "      quickchartButtonEl.disabled = true;  // To prevent multiple clicks.\n",
              "      quickchartButtonEl.classList.add('colab-df-spinner');\n",
              "      try {\n",
              "        const charts = await google.colab.kernel.invokeFunction(\n",
              "            'suggestCharts', [key], {});\n",
              "      } catch (error) {\n",
              "        console.error('Error during call to suggestCharts:', error);\n",
              "      }\n",
              "      quickchartButtonEl.classList.remove('colab-df-spinner');\n",
              "      quickchartButtonEl.classList.add('colab-df-quickchart-complete');\n",
              "    }\n",
              "    (() => {\n",
              "      let quickchartButtonEl =\n",
              "        document.querySelector('#df-203b108e-91b3-444d-9b85-beb49dd751c2 button');\n",
              "      quickchartButtonEl.style.display =\n",
              "        google.colab.kernel.accessAllowed ? 'block' : 'none';\n",
              "    })();\n",
              "  </script>\n",
              "</div>\n",
              "\n",
              "  <div id=\"id_8e72c031-3d62-4228-9ad0-f5559566341b\">\n",
              "    <style>\n",
              "      .colab-df-generate {\n",
              "        background-color: #E8F0FE;\n",
              "        border: none;\n",
              "        border-radius: 50%;\n",
              "        cursor: pointer;\n",
              "        display: none;\n",
              "        fill: #1967D2;\n",
              "        height: 32px;\n",
              "        padding: 0 0 0 0;\n",
              "        width: 32px;\n",
              "      }\n",
              "\n",
              "      .colab-df-generate:hover {\n",
              "        background-color: #E2EBFA;\n",
              "        box-shadow: 0px 1px 2px rgba(60, 64, 67, 0.3), 0px 1px 3px 1px rgba(60, 64, 67, 0.15);\n",
              "        fill: #174EA6;\n",
              "      }\n",
              "\n",
              "      [theme=dark] .colab-df-generate {\n",
              "        background-color: #3B4455;\n",
              "        fill: #D2E3FC;\n",
              "      }\n",
              "\n",
              "      [theme=dark] .colab-df-generate:hover {\n",
              "        background-color: #434B5C;\n",
              "        box-shadow: 0px 1px 3px 1px rgba(0, 0, 0, 0.15);\n",
              "        filter: drop-shadow(0px 1px 2px rgba(0, 0, 0, 0.3));\n",
              "        fill: #FFFFFF;\n",
              "      }\n",
              "    </style>\n",
              "    <button class=\"colab-df-generate\" onclick=\"generateWithVariable('melted_df_passed_only_treatment')\"\n",
              "            title=\"Generate code using this dataframe.\"\n",
              "            style=\"display:none;\">\n",
              "\n",
              "  <svg xmlns=\"http://www.w3.org/2000/svg\" height=\"24px\"viewBox=\"0 0 24 24\"\n",
              "       width=\"24px\">\n",
              "    <path d=\"M7,19H8.4L18.45,9,17,7.55,7,17.6ZM5,21V16.75L18.45,3.32a2,2,0,0,1,2.83,0l1.4,1.43a1.91,1.91,0,0,1,.58,1.4,1.91,1.91,0,0,1-.58,1.4L9.25,21ZM18.45,9,17,7.55Zm-12,3A5.31,5.31,0,0,0,4.9,8.1,5.31,5.31,0,0,0,1,6.5,5.31,5.31,0,0,0,4.9,4.9,5.31,5.31,0,0,0,6.5,1,5.31,5.31,0,0,0,8.1,4.9,5.31,5.31,0,0,0,12,6.5,5.46,5.46,0,0,0,6.5,12Z\"/>\n",
              "  </svg>\n",
              "    </button>\n",
              "    <script>\n",
              "      (() => {\n",
              "      const buttonEl =\n",
              "        document.querySelector('#id_8e72c031-3d62-4228-9ad0-f5559566341b button.colab-df-generate');\n",
              "      buttonEl.style.display =\n",
              "        google.colab.kernel.accessAllowed ? 'block' : 'none';\n",
              "\n",
              "      buttonEl.onclick = () => {\n",
              "        google.colab.notebook.generateWithVariable('melted_df_passed_only_treatment');\n",
              "      }\n",
              "      })();\n",
              "    </script>\n",
              "  </div>\n",
              "\n",
              "    </div>\n",
              "  </div>\n"
            ],
            "application/vnd.google.colaboratory.intrinsic+json": {
              "type": "dataframe",
              "variable_name": "melted_df_passed_only_treatment",
              "summary": "{\n  \"name\": \"melted_df_passed_only_treatment\",\n  \"rows\": 654,\n  \"fields\": [\n    {\n      \"column\": \"IPAddress\",\n      \"properties\": {\n        \"dtype\": \"category\",\n        \"num_unique_values\": 109,\n        \"samples\": [\n          \"200.173.49.31\",\n          \"181.169.128.59\",\n          \"200.173.53.123\"\n        ],\n        \"semantic_type\": \"\",\n        \"description\": \"\"\n      }\n    },\n    {\n      \"column\": \"Gender\",\n      \"properties\": {\n        \"dtype\": \"category\",\n        \"num_unique_values\": 3,\n        \"samples\": [\n          \"Female\",\n          \"Male\",\n          \"Non-binary / third gender\"\n        ],\n        \"semantic_type\": \"\",\n        \"description\": \"\"\n      }\n    },\n    {\n      \"column\": \"Age\",\n      \"properties\": {\n        \"dtype\": \"number\",\n        \"std\": 12.25465986798733,\n        \"min\": 8.0,\n        \"max\": 67.0,\n        \"num_unique_values\": 35,\n        \"samples\": [\n          36.0,\n          49.0,\n          38.0\n        ],\n        \"semantic_type\": \"\",\n        \"description\": \"\"\n      }\n    },\n    {\n      \"column\": \"group\",\n      \"properties\": {\n        \"dtype\": \"category\",\n        \"num_unique_values\": 2,\n        \"samples\": [\n          \"treatment 2\",\n          \"treatment 1\"\n        ],\n        \"semantic_type\": \"\",\n        \"description\": \"\"\n      }\n    },\n    {\n      \"column\": \"Question\",\n      \"properties\": {\n        \"dtype\": \"category\",\n        \"num_unique_values\": 6,\n        \"samples\": [\n          \"Q1\",\n          \"Q2\"\n        ],\n        \"semantic_type\": \"\",\n        \"description\": \"\"\n      }\n    },\n    {\n      \"column\": \"Score\",\n      \"properties\": {\n        \"dtype\": \"number\",\n        \"std\": 384,\n        \"min\": 0,\n        \"max\": 5000,\n        \"num_unique_values\": 149,\n        \"samples\": [\n          146,\n          223\n        ],\n        \"semantic_type\": \"\",\n        \"description\": \"\"\n      }\n    }\n  ]\n}"
            }
          },
          "metadata": {},
          "execution_count": 84
        }
      ]
    },
    {
      "cell_type": "markdown",
      "source": [
        "#### Model"
      ],
      "metadata": {
        "id": "D_04DOUO5lfp"
      }
    },
    {
      "cell_type": "code",
      "source": [
        "#Creating the regression\n",
        "\n",
        "#Regressing the estimage on experiment arm with question(which image they saw)\n",
        "#as a fixed effect\n",
        "formula = 'Score ~ group| Question'\n",
        "\n",
        "#Adding clustered standard errors to account for the fact that each IPAddress\n",
        "#made 6 estimates\n",
        "model = feols(formula, data=melted_df_passed_only_treatment, vcov={'CRV1':'IPAddress'})\n",
        "etable(model)"
      ],
      "metadata": {
        "colab": {
          "base_uri": "https://localhost:8080/"
        },
        "id": "C11eiFEXnP88",
        "outputId": "e3e5d353-b6bc-40be-8355-ec120ddd4011"
      },
      "execution_count": 85,
      "outputs": [
        {
          "output_type": "stream",
          "name": "stdout",
          "text": [
            "                                  est1\n",
            "--------------------  ----------------\n",
            "depvar                           Score\n",
            "--------------------------------------\n",
            "group[T.treatment 2]  -85.152 (51.528)\n",
            "--------------------------------------\n",
            "Question                             x\n",
            "--------------------------------------\n",
            "R2                               0.176\n",
            "S.E. type                by: IPAddress\n",
            "Observations                       654\n",
            "--------------------------------------\n",
            "Significance levels: * p < 0.05, ** p < 0.01, *** p < 0.001\n",
            "Format of coefficient cell:\n",
            "Coefficient (Std. Error)\n"
          ]
        }
      ]
    },
    {
      "cell_type": "markdown",
      "source": [
        "## Regressions (multiplicative assumptions)"
      ],
      "metadata": {
        "id": "IjhvlG1Z5rv9"
      }
    },
    {
      "cell_type": "markdown",
      "source": [
        "###Regression 4: All participants (log)"
      ],
      "metadata": {
        "id": "p3zg-eRQ2AqV"
      }
    },
    {
      "cell_type": "markdown",
      "source": [
        "####Data Prep"
      ],
      "metadata": {
        "id": "zTaBpvMd2AqX"
      }
    },
    {
      "cell_type": "code",
      "source": [
        "melted_df_all['Score'] = melted_df_all['Score'] + 1"
      ],
      "metadata": {
        "id": "sWpekPYQ3Mj8"
      },
      "execution_count": 61,
      "outputs": []
    },
    {
      "cell_type": "code",
      "source": [
        "melted_df_all['logScore'] = np.log(melted_df_all['Score'])"
      ],
      "metadata": {
        "id": "UcjJdNKD2i-a"
      },
      "execution_count": 62,
      "outputs": []
    },
    {
      "cell_type": "markdown",
      "source": [
        "#### Model"
      ],
      "metadata": {
        "id": "2DFC9ckw8fCB"
      }
    },
    {
      "cell_type": "code",
      "source": [
        "#Creating the regression\n",
        "\n",
        "#Regressing the estimage on experiment arm with question(which image they saw)\n",
        "#as a fixed effect\n",
        "formula = 'logScore ~ group| Question'\n",
        "\n",
        "#Adding clustered standard errors to account for the fact that each IPAddress\n",
        "#made 6 estimates\n",
        "model = feols(formula, data=melted_df_all, vcov={'CRV1':'IPAddress'})\n",
        "etable(model)"
      ],
      "metadata": {
        "colab": {
          "base_uri": "https://localhost:8080/"
        },
        "outputId": "39b2fe15-68c3-4a29-ae0f-d804c1d52f81",
        "id": "1xlbzlRu2AqY"
      },
      "execution_count": 65,
      "outputs": [
        {
          "output_type": "stream",
          "name": "stdout",
          "text": [
            "                                est1\n",
            "--------------------  --------------\n",
            "depvar                      logScore\n",
            "------------------------------------\n",
            "group[T.treatment 1]  -0.031 (0.100)\n",
            "group[T.treatment 2]  -0.181 (0.094)\n",
            "------------------------------------\n",
            "Question                           x\n",
            "------------------------------------\n",
            "R2                             0.668\n",
            "S.E. type              by: IPAddress\n",
            "Observations                    1151\n",
            "------------------------------------\n",
            "Significance levels: * p < 0.05, ** p < 0.01, *** p < 0.001\n",
            "Format of coefficient cell:\n",
            "Coefficient (Std. Error)\n"
          ]
        }
      ]
    },
    {
      "cell_type": "markdown",
      "source": [
        "### Regression 5: Checked participants (log)"
      ],
      "metadata": {
        "id": "vBJ5AhFH8og-"
      }
    },
    {
      "cell_type": "markdown",
      "source": [
        "####Data Prep"
      ],
      "metadata": {
        "id": "kEf4rNc38woo"
      }
    },
    {
      "cell_type": "code",
      "source": [
        "melted_df_passed['Score'] = melted_df_passed['Score'] + 1"
      ],
      "metadata": {
        "id": "74wcX8RS8wox"
      },
      "execution_count": 66,
      "outputs": []
    },
    {
      "cell_type": "code",
      "source": [
        "melted_df_passed['logScore'] = np.log(melted_df_all['Score'])"
      ],
      "metadata": {
        "id": "nRWQMxgn8wox"
      },
      "execution_count": 67,
      "outputs": []
    },
    {
      "cell_type": "markdown",
      "source": [
        "#### Model"
      ],
      "metadata": {
        "id": "MsWf7fnW8tkN"
      }
    },
    {
      "cell_type": "code",
      "source": [
        "#Creating the regression\n",
        "\n",
        "#Regressing the estimage on experiment arm with question(which image they saw)\n",
        "#as a fixed effect\n",
        "formula = 'logScore ~ group| Question'\n",
        "\n",
        "#Adding clustered standard errors to account for the fact that each IPAddress\n",
        "#made 6 estimates\n",
        "model = feols(formula, data=melted_df_passed, vcov={'CRV1':'IPAddress'})\n",
        "etable(model)"
      ],
      "metadata": {
        "colab": {
          "base_uri": "https://localhost:8080/"
        },
        "outputId": "b34611a7-768d-4794-ef0a-30ebd73b323b",
        "id": "b-eryRUf8tkO"
      },
      "execution_count": 69,
      "outputs": [
        {
          "output_type": "stream",
          "name": "stdout",
          "text": [
            "                                est1\n",
            "--------------------  --------------\n",
            "depvar                      logScore\n",
            "------------------------------------\n",
            "group[T.treatment 1]   0.017 (0.065)\n",
            "group[T.treatment 2]  -0.085 (0.059)\n",
            "------------------------------------\n",
            "Question                           x\n",
            "------------------------------------\n",
            "R2                             0.566\n",
            "S.E. type              by: IPAddress\n",
            "Observations                    1042\n",
            "------------------------------------\n",
            "Significance levels: * p < 0.05, ** p < 0.01, *** p < 0.001\n",
            "Format of coefficient cell:\n",
            "Coefficient (Std. Error)\n"
          ]
        }
      ]
    },
    {
      "cell_type": "markdown",
      "source": [
        "###Regression 6: Treatment 1 vs Treatment 2 (log)"
      ],
      "metadata": {
        "id": "3bkVNWCg9A1k"
      }
    },
    {
      "cell_type": "markdown",
      "source": [
        "####Data Prep"
      ],
      "metadata": {
        "id": "sPcpqZzQ9IkJ"
      }
    },
    {
      "cell_type": "code",
      "source": [
        "melted_df_passed_only_treatment['Score'] = melted_df_passed_only_treatment['Score'] + 1"
      ],
      "metadata": {
        "colab": {
          "base_uri": "https://localhost:8080/"
        },
        "id": "G6AKH5o79IkT",
        "outputId": "aceab1e1-2ff0-4595-f3f1-175a2f7cd8f6"
      },
      "execution_count": 88,
      "outputs": [
        {
          "output_type": "stream",
          "name": "stderr",
          "text": [
            "<ipython-input-88-ccd638a4908d>:1: SettingWithCopyWarning: \n",
            "A value is trying to be set on a copy of a slice from a DataFrame.\n",
            "Try using .loc[row_indexer,col_indexer] = value instead\n",
            "\n",
            "See the caveats in the documentation: https://pandas.pydata.org/pandas-docs/stable/user_guide/indexing.html#returning-a-view-versus-a-copy\n",
            "  melted_df_passed_only_treatment['Score'] = melted_df_passed_only_treatment['Score'] + 1\n"
          ]
        }
      ]
    },
    {
      "cell_type": "code",
      "source": [
        "melted_df_passed_only_treatment['logScore'] = np.log(melted_df_passed_only_treatment['Score'])"
      ],
      "metadata": {
        "colab": {
          "base_uri": "https://localhost:8080/"
        },
        "id": "gH8L2D8S9IkT",
        "outputId": "b0df5ae8-5d18-4e43-a69d-81e2deb11ccf"
      },
      "execution_count": 89,
      "outputs": [
        {
          "output_type": "stream",
          "name": "stderr",
          "text": [
            "<ipython-input-89-5683bfcc8fa6>:1: SettingWithCopyWarning: \n",
            "A value is trying to be set on a copy of a slice from a DataFrame.\n",
            "Try using .loc[row_indexer,col_indexer] = value instead\n",
            "\n",
            "See the caveats in the documentation: https://pandas.pydata.org/pandas-docs/stable/user_guide/indexing.html#returning-a-view-versus-a-copy\n",
            "  melted_df_passed_only_treatment['logScore'] = np.log(melted_df_passed_only_treatment['Score'])\n"
          ]
        }
      ]
    },
    {
      "cell_type": "markdown",
      "source": [
        "#### Model"
      ],
      "metadata": {
        "id": "mMIDkJMh9FLp"
      }
    },
    {
      "cell_type": "code",
      "source": [
        "#Creating the regression\n",
        "\n",
        "#Regressing the estimage on experiment arm with question(which image they saw)\n",
        "#as a fixed effect\n",
        "formula = 'logScore ~ group| Question'\n",
        "\n",
        "#Adding clustered standard errors to account for the fact that each IPAddress\n",
        "#made 6 estimates\n",
        "model = feols(formula, data=melted_df_passed_only_treatment, vcov={'CRV1':'IPAddress'})\n",
        "etable(model)"
      ],
      "metadata": {
        "colab": {
          "base_uri": "https://localhost:8080/"
        },
        "outputId": "08221337-41c3-471b-f8c8-2d807cac863d",
        "id": "CIAKaaUN9FLq"
      },
      "execution_count": 90,
      "outputs": [
        {
          "output_type": "stream",
          "name": "stdout",
          "text": [
            "                                est1\n",
            "--------------------  --------------\n",
            "depvar                      logScore\n",
            "------------------------------------\n",
            "group[T.treatment 2]  -0.197 (0.102)\n",
            "------------------------------------\n",
            "Question                           x\n",
            "------------------------------------\n",
            "R2                             0.678\n",
            "S.E. type              by: IPAddress\n",
            "Observations                     654\n",
            "------------------------------------\n",
            "Significance levels: * p < 0.05, ** p < 0.01, *** p < 0.001\n",
            "Format of coefficient cell:\n",
            "Coefficient (Std. Error)\n"
          ]
        }
      ]
    }
  ]
}